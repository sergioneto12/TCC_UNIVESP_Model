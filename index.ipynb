{
 "cells": [
  {
   "cell_type": "markdown",
   "metadata": {},
   "source": [
    "Caso precise instalar algum dos pacotes do python em uma célula do collab, use o seguinte comando:\n",
    "- !pip install seu-pacote"
   ]
  },
  {
   "cell_type": "code",
   "execution_count": 396,
   "metadata": {},
   "outputs": [],
   "source": [
    "# suprimir os warnings\n",
    "from warnings import simplefilter\n",
    "simplefilter(action='ignore', category=FutureWarning)"
   ]
  },
  {
   "cell_type": "markdown",
   "metadata": {},
   "source": [
    "## Imports para análise e limpeza dos dados"
   ]
  },
  {
   "cell_type": "code",
   "execution_count": 397,
   "metadata": {},
   "outputs": [],
   "source": [
    "import pathlib\n",
    "import pandas           as pd\n",
    "import numpy            as np\n",
    "import matplotlib.pylab as plt\n",
    "import plotly.express   as px\n",
    "import seaborn          as sns\n",
    "from collections import Counter"
   ]
  },
  {
   "cell_type": "markdown",
   "metadata": {},
   "source": [
    "## Imports para Machine Learning"
   ]
  },
  {
   "cell_type": "code",
   "execution_count": 447,
   "metadata": {},
   "outputs": [],
   "source": [
    "# Pré-processamento e divisão para treino e testes\n",
    "from sklearn                 import preprocessing\n",
    "from sklearn.model_selection import train_test_split, GridSearchCV\n",
    "from sklearn.preprocessing import StandardScaler, MinMaxScaler\n",
    "from imblearn.over_sampling import SMOTE\n",
    "from imblearn.under_sampling import RandomUnderSampler, NearMiss\n",
    "\n",
    "# Algoritmos para seleção do melhor modelo de ML\n",
    "from sklearn.ensemble        import RandomForestClassifier\n",
    "from sklearn.linear_model import LogisticRegression\n",
    "from xgboost import XGBClassifier\n",
    "\n",
    "# Métricas para validação de cada modelo\n",
    "from sklearn.metrics         import confusion_matrix, accuracy_score, mean_absolute_error, roc_curve, precision_score, recall_score, f1_score, roc_auc_score, classification_report\n",
    "from sklearn.model_selection import train_test_split, GridSearchCV, cross_val_score\n",
    "from pycaret.classification import *"
   ]
  },
  {
   "cell_type": "code",
   "execution_count": 276,
   "metadata": {},
   "outputs": [],
   "source": [
    "## Caminho para os arquivos\n",
    "\n",
    "path = pathlib.Path().cwd() / 'files/bs140513_032310.csv'"
   ]
  },
  {
   "cell_type": "code",
   "execution_count": 277,
   "metadata": {},
   "outputs": [
    {
     "data": {
      "text/html": [
       "<div>\n",
       "<style scoped>\n",
       "    .dataframe tbody tr th:only-of-type {\n",
       "        vertical-align: middle;\n",
       "    }\n",
       "\n",
       "    .dataframe tbody tr th {\n",
       "        vertical-align: top;\n",
       "    }\n",
       "\n",
       "    .dataframe thead th {\n",
       "        text-align: right;\n",
       "    }\n",
       "</style>\n",
       "<table border=\"1\" class=\"dataframe\">\n",
       "  <thead>\n",
       "    <tr style=\"text-align: right;\">\n",
       "      <th></th>\n",
       "      <th>step</th>\n",
       "      <th>customer</th>\n",
       "      <th>age</th>\n",
       "      <th>gender</th>\n",
       "      <th>zipcodeOri</th>\n",
       "      <th>merchant</th>\n",
       "      <th>zipMerchant</th>\n",
       "      <th>category</th>\n",
       "      <th>amount</th>\n",
       "      <th>fraud</th>\n",
       "    </tr>\n",
       "  </thead>\n",
       "  <tbody>\n",
       "    <tr>\n",
       "      <th>0</th>\n",
       "      <td>0</td>\n",
       "      <td>'C1093826151'</td>\n",
       "      <td>'4'</td>\n",
       "      <td>'M'</td>\n",
       "      <td>'28007'</td>\n",
       "      <td>'M348934600'</td>\n",
       "      <td>'28007'</td>\n",
       "      <td>'es_transportation'</td>\n",
       "      <td>4.55</td>\n",
       "      <td>0</td>\n",
       "    </tr>\n",
       "    <tr>\n",
       "      <th>1</th>\n",
       "      <td>0</td>\n",
       "      <td>'C352968107'</td>\n",
       "      <td>'2'</td>\n",
       "      <td>'M'</td>\n",
       "      <td>'28007'</td>\n",
       "      <td>'M348934600'</td>\n",
       "      <td>'28007'</td>\n",
       "      <td>'es_transportation'</td>\n",
       "      <td>39.68</td>\n",
       "      <td>0</td>\n",
       "    </tr>\n",
       "    <tr>\n",
       "      <th>2</th>\n",
       "      <td>0</td>\n",
       "      <td>'C2054744914'</td>\n",
       "      <td>'4'</td>\n",
       "      <td>'F'</td>\n",
       "      <td>'28007'</td>\n",
       "      <td>'M1823072687'</td>\n",
       "      <td>'28007'</td>\n",
       "      <td>'es_transportation'</td>\n",
       "      <td>26.89</td>\n",
       "      <td>0</td>\n",
       "    </tr>\n",
       "    <tr>\n",
       "      <th>3</th>\n",
       "      <td>0</td>\n",
       "      <td>'C1760612790'</td>\n",
       "      <td>'3'</td>\n",
       "      <td>'M'</td>\n",
       "      <td>'28007'</td>\n",
       "      <td>'M348934600'</td>\n",
       "      <td>'28007'</td>\n",
       "      <td>'es_transportation'</td>\n",
       "      <td>17.25</td>\n",
       "      <td>0</td>\n",
       "    </tr>\n",
       "    <tr>\n",
       "      <th>4</th>\n",
       "      <td>0</td>\n",
       "      <td>'C757503768'</td>\n",
       "      <td>'5'</td>\n",
       "      <td>'M'</td>\n",
       "      <td>'28007'</td>\n",
       "      <td>'M348934600'</td>\n",
       "      <td>'28007'</td>\n",
       "      <td>'es_transportation'</td>\n",
       "      <td>35.72</td>\n",
       "      <td>0</td>\n",
       "    </tr>\n",
       "  </tbody>\n",
       "</table>\n",
       "</div>"
      ],
      "text/plain": [
       "   step       customer  age gender zipcodeOri       merchant zipMerchant  \\\n",
       "0     0  'C1093826151'  '4'    'M'    '28007'   'M348934600'     '28007'   \n",
       "1     0   'C352968107'  '2'    'M'    '28007'   'M348934600'     '28007'   \n",
       "2     0  'C2054744914'  '4'    'F'    '28007'  'M1823072687'     '28007'   \n",
       "3     0  'C1760612790'  '3'    'M'    '28007'   'M348934600'     '28007'   \n",
       "4     0   'C757503768'  '5'    'M'    '28007'   'M348934600'     '28007'   \n",
       "\n",
       "              category  amount  fraud  \n",
       "0  'es_transportation'    4.55      0  \n",
       "1  'es_transportation'   39.68      0  \n",
       "2  'es_transportation'   26.89      0  \n",
       "3  'es_transportation'   17.25      0  \n",
       "4  'es_transportation'   35.72      0  "
      ]
     },
     "execution_count": 277,
     "metadata": {},
     "output_type": "execute_result"
    }
   ],
   "source": [
    "## importando arquivos e fazendo o reconhecimento dos dados\n",
    "\n",
    "fraud_df = pd.read_csv(path)\n",
    "fraud_df.head()"
   ]
  },
  {
   "cell_type": "markdown",
   "metadata": {},
   "source": [
    "### Dimensões do Dataset Original:\n",
    "\n",
    "- 594643 linhas\n",
    "- 9 colunas"
   ]
  },
  {
   "cell_type": "markdown",
   "metadata": {},
   "source": [
    "### Características relevantes do dataset\n",
    "\n",
    "Alguns dados estão transformados:\n",
    "- Os passos se referem à datas, entre os anos de 2012 a 2013. Entretanto, não foram descritas as datas exatas para esse intervalo. De certo, os dados correspondem a transações de 6 meses.\n",
    "- A idade também foi pré-processada, com as seguintes características:\n",
    "\n",
    "    - 0 = <18 anos\n",
    "    - 1 = 19-25 anos\n",
    "    - 2 = 26-35 anos\n",
    "    - 3 = 36-45 anos\n",
    "    - 4 = 46-55 anos\n",
    "    - 5 = 56-65 anos\n",
    "    - 6 = >65 anos\n",
    "    - U = desconhecido"
   ]
  },
  {
   "cell_type": "markdown",
   "metadata": {},
   "source": [
    "### Análise Exploratória dos dados\n",
    "\n",
    "Analisando características do dataset"
   ]
  },
  {
   "cell_type": "code",
   "execution_count": 278,
   "metadata": {},
   "outputs": [
    {
     "data": {
      "text/html": [
       "<div>\n",
       "<style scoped>\n",
       "    .dataframe tbody tr th:only-of-type {\n",
       "        vertical-align: middle;\n",
       "    }\n",
       "\n",
       "    .dataframe tbody tr th {\n",
       "        vertical-align: top;\n",
       "    }\n",
       "\n",
       "    .dataframe thead th {\n",
       "        text-align: right;\n",
       "    }\n",
       "</style>\n",
       "<table border=\"1\" class=\"dataframe\">\n",
       "  <thead>\n",
       "    <tr style=\"text-align: right;\">\n",
       "      <th></th>\n",
       "      <th>step</th>\n",
       "      <th>amount</th>\n",
       "      <th>fraud</th>\n",
       "    </tr>\n",
       "  </thead>\n",
       "  <tbody>\n",
       "    <tr>\n",
       "      <th>count</th>\n",
       "      <td>594643.000000</td>\n",
       "      <td>594643.000000</td>\n",
       "      <td>594643.000000</td>\n",
       "    </tr>\n",
       "    <tr>\n",
       "      <th>mean</th>\n",
       "      <td>94.986827</td>\n",
       "      <td>37.890135</td>\n",
       "      <td>0.012108</td>\n",
       "    </tr>\n",
       "    <tr>\n",
       "      <th>std</th>\n",
       "      <td>51.053632</td>\n",
       "      <td>111.402831</td>\n",
       "      <td>0.109369</td>\n",
       "    </tr>\n",
       "    <tr>\n",
       "      <th>min</th>\n",
       "      <td>0.000000</td>\n",
       "      <td>0.000000</td>\n",
       "      <td>0.000000</td>\n",
       "    </tr>\n",
       "    <tr>\n",
       "      <th>25%</th>\n",
       "      <td>52.000000</td>\n",
       "      <td>13.740000</td>\n",
       "      <td>0.000000</td>\n",
       "    </tr>\n",
       "    <tr>\n",
       "      <th>50%</th>\n",
       "      <td>97.000000</td>\n",
       "      <td>26.900000</td>\n",
       "      <td>0.000000</td>\n",
       "    </tr>\n",
       "    <tr>\n",
       "      <th>75%</th>\n",
       "      <td>139.000000</td>\n",
       "      <td>42.540000</td>\n",
       "      <td>0.000000</td>\n",
       "    </tr>\n",
       "    <tr>\n",
       "      <th>max</th>\n",
       "      <td>179.000000</td>\n",
       "      <td>8329.960000</td>\n",
       "      <td>1.000000</td>\n",
       "    </tr>\n",
       "  </tbody>\n",
       "</table>\n",
       "</div>"
      ],
      "text/plain": [
       "                step         amount          fraud\n",
       "count  594643.000000  594643.000000  594643.000000\n",
       "mean       94.986827      37.890135       0.012108\n",
       "std        51.053632     111.402831       0.109369\n",
       "min         0.000000       0.000000       0.000000\n",
       "25%        52.000000      13.740000       0.000000\n",
       "50%        97.000000      26.900000       0.000000\n",
       "75%       139.000000      42.540000       0.000000\n",
       "max       179.000000    8329.960000       1.000000"
      ]
     },
     "execution_count": 278,
     "metadata": {},
     "output_type": "execute_result"
    }
   ],
   "source": [
    "fraud_df.describe()"
   ]
  },
  {
   "cell_type": "code",
   "execution_count": 279,
   "metadata": {},
   "outputs": [
    {
     "name": "stdout",
     "output_type": "stream",
     "text": [
      "<class 'pandas.core.frame.DataFrame'>\n",
      "RangeIndex: 594643 entries, 0 to 594642\n",
      "Data columns (total 10 columns):\n",
      " #   Column       Non-Null Count   Dtype  \n",
      "---  ------       --------------   -----  \n",
      " 0   step         594643 non-null  int64  \n",
      " 1   customer     594643 non-null  object \n",
      " 2   age          594643 non-null  object \n",
      " 3   gender       594643 non-null  object \n",
      " 4   zipcodeOri   594643 non-null  object \n",
      " 5   merchant     594643 non-null  object \n",
      " 6   zipMerchant  594643 non-null  object \n",
      " 7   category     594643 non-null  object \n",
      " 8   amount       594643 non-null  float64\n",
      " 9   fraud        594643 non-null  int64  \n",
      "dtypes: float64(1), int64(2), object(7)\n",
      "memory usage: 45.4+ MB\n"
     ]
    }
   ],
   "source": [
    "fraud_df.info()"
   ]
  },
  {
   "cell_type": "code",
   "execution_count": 280,
   "metadata": {},
   "outputs": [
    {
     "data": {
      "text/plain": [
       "Index(['step', 'customer', 'age', 'gender', 'zipcodeOri', 'merchant',\n",
       "       'zipMerchant', 'category', 'amount', 'fraud'],\n",
       "      dtype='object')"
      ]
     },
     "execution_count": 280,
     "metadata": {},
     "output_type": "execute_result"
    }
   ],
   "source": [
    "fraud_df.columns"
   ]
  },
  {
   "cell_type": "code",
   "execution_count": 281,
   "metadata": {},
   "outputs": [
    {
     "name": "stdout",
     "output_type": "stream",
     "text": [
      "A quantidade de dados únicos para a coluna age é: 8\n",
      "A quantidade de dados únicos para a coluna customer é: 4112\n",
      "A quantidade de dados únicos para a coluna gender é: 4\n",
      "A quantidade de dados únicos para a coluna zipcodeOri é: 1\n",
      "A quantidade de dados únicos para a coluna merchant é: 50\n",
      "A quantidade de dados únicos para a coluna zipMerchant é: 1\n",
      "A quantidade de dados únicos para a coluna category é: 15\n"
     ]
    }
   ],
   "source": [
    "## Avaliando as variáveis de texto para compreender se há colunas com dados únicos, não sendo úteis para a montagem do modelo\n",
    "fraud_df_text = fraud_df[['age', 'customer', 'gender', 'zipcodeOri', 'merchant', 'zipMerchant', 'category']]\n",
    "\n",
    "for i in fraud_df_text.columns:\n",
    "    print(f'A quantidade de dados únicos para a coluna {i} é: {fraud_df_text[i].nunique()}')\n"
   ]
  },
  {
   "cell_type": "code",
   "execution_count": 282,
   "metadata": {},
   "outputs": [
    {
     "data": {
      "text/html": [
       "<div>\n",
       "<style scoped>\n",
       "    .dataframe tbody tr th:only-of-type {\n",
       "        vertical-align: middle;\n",
       "    }\n",
       "\n",
       "    .dataframe tbody tr th {\n",
       "        vertical-align: top;\n",
       "    }\n",
       "\n",
       "    .dataframe thead th {\n",
       "        text-align: right;\n",
       "    }\n",
       "</style>\n",
       "<table border=\"1\" class=\"dataframe\">\n",
       "  <thead>\n",
       "    <tr style=\"text-align: right;\">\n",
       "      <th></th>\n",
       "      <th>step</th>\n",
       "      <th>customer</th>\n",
       "      <th>age</th>\n",
       "      <th>gender</th>\n",
       "      <th>merchant</th>\n",
       "      <th>category</th>\n",
       "      <th>amount</th>\n",
       "      <th>fraud</th>\n",
       "    </tr>\n",
       "  </thead>\n",
       "  <tbody>\n",
       "    <tr>\n",
       "      <th>0</th>\n",
       "      <td>0</td>\n",
       "      <td>'C1093826151'</td>\n",
       "      <td>'4'</td>\n",
       "      <td>'M'</td>\n",
       "      <td>'M348934600'</td>\n",
       "      <td>'es_transportation'</td>\n",
       "      <td>4.55</td>\n",
       "      <td>0</td>\n",
       "    </tr>\n",
       "    <tr>\n",
       "      <th>1</th>\n",
       "      <td>0</td>\n",
       "      <td>'C352968107'</td>\n",
       "      <td>'2'</td>\n",
       "      <td>'M'</td>\n",
       "      <td>'M348934600'</td>\n",
       "      <td>'es_transportation'</td>\n",
       "      <td>39.68</td>\n",
       "      <td>0</td>\n",
       "    </tr>\n",
       "    <tr>\n",
       "      <th>2</th>\n",
       "      <td>0</td>\n",
       "      <td>'C2054744914'</td>\n",
       "      <td>'4'</td>\n",
       "      <td>'F'</td>\n",
       "      <td>'M1823072687'</td>\n",
       "      <td>'es_transportation'</td>\n",
       "      <td>26.89</td>\n",
       "      <td>0</td>\n",
       "    </tr>\n",
       "    <tr>\n",
       "      <th>3</th>\n",
       "      <td>0</td>\n",
       "      <td>'C1760612790'</td>\n",
       "      <td>'3'</td>\n",
       "      <td>'M'</td>\n",
       "      <td>'M348934600'</td>\n",
       "      <td>'es_transportation'</td>\n",
       "      <td>17.25</td>\n",
       "      <td>0</td>\n",
       "    </tr>\n",
       "    <tr>\n",
       "      <th>4</th>\n",
       "      <td>0</td>\n",
       "      <td>'C757503768'</td>\n",
       "      <td>'5'</td>\n",
       "      <td>'M'</td>\n",
       "      <td>'M348934600'</td>\n",
       "      <td>'es_transportation'</td>\n",
       "      <td>35.72</td>\n",
       "      <td>0</td>\n",
       "    </tr>\n",
       "  </tbody>\n",
       "</table>\n",
       "</div>"
      ],
      "text/plain": [
       "   step       customer  age gender       merchant             category  \\\n",
       "0     0  'C1093826151'  '4'    'M'   'M348934600'  'es_transportation'   \n",
       "1     0   'C352968107'  '2'    'M'   'M348934600'  'es_transportation'   \n",
       "2     0  'C2054744914'  '4'    'F'  'M1823072687'  'es_transportation'   \n",
       "3     0  'C1760612790'  '3'    'M'   'M348934600'  'es_transportation'   \n",
       "4     0   'C757503768'  '5'    'M'   'M348934600'  'es_transportation'   \n",
       "\n",
       "   amount  fraud  \n",
       "0    4.55      0  \n",
       "1   39.68      0  \n",
       "2   26.89      0  \n",
       "3   17.25      0  \n",
       "4   35.72      0  "
      ]
     },
     "execution_count": 282,
     "metadata": {},
     "output_type": "execute_result"
    }
   ],
   "source": [
    "# Eliminando os dados de zipcode, pois serão irrelevantes para nossa análise.\n",
    "\n",
    "fraud_df = fraud_df.drop(['zipcodeOri', 'zipMerchant'], axis=1)\n",
    "fraud_df.head()"
   ]
  },
  {
   "cell_type": "markdown",
   "metadata": {},
   "source": [
    "### Evidências na análise exploratória\n",
    "\n",
    "É importante citar que:\n",
    "- Os dados apresentados não possuem linhas nulas, um bom indicativo para que possamos usar o dataset sem implicar em uma limpeza maior dos dados.\n",
    "- Há duas colunas que poderão ser desconsidaradas, já que aprensentam 1 único valor, que não é útil para o modelo de aprendizado de máquina: zipcodeOri e zipMerchant. Entretanto, para o caso de haver uma maior diversificação de região, é interessante ler o conteúdo e considerar a coluna como uma feature."
   ]
  },
  {
   "cell_type": "markdown",
   "metadata": {},
   "source": [
    "# Análise Bivariada"
   ]
  },
  {
   "cell_type": "markdown",
   "metadata": {},
   "source": [
    "## Verificando o comportamento geral dos casos de compras, comparando tipos de compra x idade\n",
    "\n",
    "Analisando a disperção dos valores de acordo com a faixa de idade dos compradores.\n",
    "\n",
    "A ordem aqui segue o padrão anterior, inicialmente os casos gerais, e depois apenas os casos de fraude."
   ]
  },
  {
   "cell_type": "code",
   "execution_count": 283,
   "metadata": {},
   "outputs": [
    {
     "data": {
      "image/png": "[encoded data removed]",
      "text/plain": [
       "<Figure size 2160x576 with 1 Axes>"
      ]
     },
     "metadata": {
      "needs_background": "light"
     },
     "output_type": "display_data"
    }
   ],
   "source": [
    "# Analisando as compras realizadas por cada categoria.\n",
    "\n",
    "plt.subplots(figsize=(30,8))\n",
    "sns.boxplot(data=fraud_df, x='category', y='amount')\n",
    "plt.show()"
   ]
  },
  {
   "cell_type": "code",
   "execution_count": 284,
   "metadata": {},
   "outputs": [
    {
     "name": "stdout",
     "output_type": "stream",
     "text": [
      "Quantidade de casos de fraude: 7200\n"
     ]
    },
    {
     "data": {
      "image/png": "[encoded data removed]",
      "text/plain": [
       "<Figure size 2160x576 with 1 Axes>"
      ]
     },
     "metadata": {
      "needs_background": "light"
     },
     "output_type": "display_data"
    }
   ],
   "source": [
    "# Analisando as compras realizadas por cada categoria, agora verificando os casos onde houveram fraudes\n",
    "\n",
    "cases = fraud_df.loc[fraud_df['fraud'] == 1].shape[0]\n",
    "print(f'Quantidade de casos de fraude: {cases}')\n",
    "\n",
    "plt.subplots(figsize=(30,8))\n",
    "sns.boxplot(data=fraud_df.loc[fraud_df['fraud'] == 1], x='category', y='amount')\n",
    "plt.show()"
   ]
  },
  {
   "cell_type": "markdown",
   "metadata": {},
   "source": [
    "## Verificando o comportamento geral dos casos de compras, comparando valor x idade\n",
    "\n",
    "Analisando a disperção dos valores de acordo com a faixa de idade dos compradores.\n",
    "\n",
    "A ordem aqui segue o padrão anterior, inicialmente os casos gerais, e depois apenas os casos de fraude."
   ]
  },
  {
   "cell_type": "code",
   "execution_count": 285,
   "metadata": {},
   "outputs": [
    {
     "data": {
      "image/png": "[encoded data removed]",
      "text/plain": [
       "<Figure size 2160x576 with 1 Axes>"
      ]
     },
     "metadata": {
      "needs_background": "light"
     },
     "output_type": "display_data"
    }
   ],
   "source": [
    "# Verificando o comportamento geral dos casos de compras, comparando valor x idade\n",
    "\n",
    "order = ['0', '1', '2', '3', '4', '5', '6', 'U']\n",
    "\n",
    "plt.subplots(figsize=(30,8))\n",
    "sns.stripplot(data=fraud_df, x='age', y='amount')\n",
    "plt.show()"
   ]
  },
  {
   "cell_type": "code",
   "execution_count": 286,
   "metadata": {},
   "outputs": [
    {
     "data": {
      "image/png": "[encoded data removed]",
      "text/plain": [
       "<Figure size 2160x576 with 1 Axes>"
      ]
     },
     "metadata": {
      "needs_background": "light"
     },
     "output_type": "display_data"
    }
   ],
   "source": [
    "# Verificando o comportamento geral dos casos de compras, comparando valor x idade\n",
    "\n",
    "cases = fraud_df.loc[fraud_df['fraud'] == 1]\n",
    "\n",
    "plt.subplots(figsize=(30,8))\n",
    "sns.stripplot(data=cases, x='age', y='amount')\n",
    "plt.show()"
   ]
  },
  {
   "cell_type": "markdown",
   "metadata": {},
   "source": [
    "Analisando os gráficos acima, obtemos uma visão geral de como as compras se distribuem enquanto analisamos casos compravados de fraude e transações legítimas.\n",
    "\n",
    "Também é interessante notar como há um descolamento de valores, mas ainda assim uma boa quantidade de compras acima de 2000."
   ]
  },
  {
   "cell_type": "code",
   "execution_count": 287,
   "metadata": {},
   "outputs": [
    {
     "data": {
      "text/plain": [
       "'es_sportsandtoys'         1982\n",
       "'es_health'                1696\n",
       "'es_wellnessandbeauty'      718\n",
       "'es_travel'                 578\n",
       "'es_hotelservices'          548\n",
       "'es_leisure'                474\n",
       "'es_home'                   302\n",
       "'es_hyper'                  280\n",
       "'es_otherservices'          228\n",
       "'es_tech'                   158\n",
       "'es_barsandrestaurants'     120\n",
       "'es_fashion'                116\n",
       "Name: category, dtype: int64"
      ]
     },
     "execution_count": 287,
     "metadata": {},
     "output_type": "execute_result"
    }
   ],
   "source": [
    "# Verificando os maiores casos de fraude\n",
    "cases['category'].value_counts()"
   ]
  },
  {
   "cell_type": "code",
   "execution_count": 288,
   "metadata": {},
   "outputs": [
    {
     "data": {
      "text/plain": [
       "'2'    2344\n",
       "'3'    1755\n",
       "'4'    1410\n",
       "'1'     689\n",
       "'5'     686\n",
       "'6'     261\n",
       "'0'      48\n",
       "'U'       7\n",
       "Name: age, dtype: int64"
      ]
     },
     "execution_count": 288,
     "metadata": {},
     "output_type": "execute_result"
    }
   ],
   "source": [
    "cases['age'].value_counts()"
   ]
  },
  {
   "cell_type": "code",
   "execution_count": 289,
   "metadata": {},
   "outputs": [
    {
     "data": {
      "text/plain": [
       "'es_transportation'        505119\n",
       "'es_food'                   26254\n",
       "'es_health'                 14437\n",
       "'es_wellnessandbeauty'      14368\n",
       "'es_fashion'                 6338\n",
       "'es_barsandrestaurants'      6253\n",
       "'es_hyper'                   5818\n",
       "'es_tech'                    2212\n",
       "'es_sportsandtoys'           2020\n",
       "'es_home'                    1684\n",
       "'es_hotelservices'           1196\n",
       "'es_contents'                 885\n",
       "'es_otherservices'            684\n",
       "'es_travel'                   150\n",
       "'es_leisure'                   25\n",
       "Name: category, dtype: int64"
      ]
     },
     "execution_count": 289,
     "metadata": {},
     "output_type": "execute_result"
    }
   ],
   "source": [
    "# Agora verificando casos que não foram capturados como fraude\n",
    "not_cases = fraud_df.loc[fraud_df['fraud'] == 0]\n",
    "not_cases['category'].value_counts()"
   ]
  },
  {
   "cell_type": "code",
   "execution_count": 290,
   "metadata": {},
   "outputs": [
    {
     "data": {
      "text/plain": [
       "'2'    184966\n",
       "'3'    145376\n",
       "'4'    107615\n",
       "'5'     61956\n",
       "'1'     57442\n",
       "'6'     26513\n",
       "'0'      2404\n",
       "'U'      1171\n",
       "Name: age, dtype: int64"
      ]
     },
     "execution_count": 290,
     "metadata": {},
     "output_type": "execute_result"
    }
   ],
   "source": [
    "not_cases['age'].value_counts()"
   ]
  },
  {
   "cell_type": "code",
   "execution_count": 291,
   "metadata": {},
   "outputs": [
    {
     "data": {
      "text/plain": [
       "190.31      1\n",
       "180.26      1\n",
       "134.47      1\n",
       "258.55      1\n",
       "106.26      1\n",
       "         ... \n",
       "17.26     143\n",
       "16.12     143\n",
       "17.57     144\n",
       "14.93     146\n",
       "26.67     146\n",
       "Name: amount, Length: 18809, dtype: int64"
      ]
     },
     "execution_count": 291,
     "metadata": {},
     "output_type": "execute_result"
    }
   ],
   "source": [
    "not_cases[\"amount\"].value_counts().sort_values()"
   ]
  },
  {
   "cell_type": "markdown",
   "metadata": {},
   "source": [
    "### Anotações\n",
    "\n",
    "Podemos notar que:\n",
    "- Casos de fraude são mais comuns para o setor de brinquedos e esportes, dentro da faixa 2 de idade.\n",
    "- Ainda assim, a faixa 2 também é responsável por boa parte das compras que não foram marcadas como fraude, embora haja uma mudança na categoria que mais registra casos \"normais\": transporte\n"
   ]
  },
  {
   "cell_type": "code",
   "execution_count": 443,
   "metadata": {},
   "outputs": [
    {
     "data": {
      "image/png": "[encoded data removed]",
      "text/plain": [
       "<Figure size 432x720 with 1 Axes>"
      ]
     },
     "metadata": {
      "needs_background": "light"
     },
     "output_type": "display_data"
    }
   ],
   "source": [
    "fig, ax = plt.subplots(figsize=(6, 10), sharex=True)\n",
    "\n",
    "sns.boxplot(x='fraud', y='amount', data=fraud_df, showmeans=True, ax=ax)\n",
    "# plt.ylim((-20, 400))\n",
    "plt.xticks([0, 1], ['Normal', 'Fraude'])\n",
    "\n",
    "plt.tight_layout()\n",
    "plt.show()"
   ]
  },
  {
   "cell_type": "markdown",
   "metadata": {},
   "source": [
    "Aqui, podemos ver a conversão de informações entre casos de fraude e casos \"normais\", ou não fraudulentos.\n",
    "\n",
    "Vemos que há uma certa tendência de casos fraudulentos de tentarem obter grandes quantias, dada pelas repostas na coluna amount.\n",
    "\n",
    "Assim é interessante não remover dados como \"outliers\" nesse momento, para verificarmos um maior range de informações"
   ]
  },
  {
   "cell_type": "code",
   "execution_count": 292,
   "metadata": {},
   "outputs": [],
   "source": [
    "# # removendo outliers\n",
    "\n",
    "# def remove_outliers(df, column):\n",
    "#     # Calcular o primeiro e terceiro quartil\n",
    "#     Q1 = df[column].quantile(0.25)\n",
    "#     Q3 = df[column].quantile(0.75)\n",
    "    \n",
    "#     # Calcular o Intervalo Interquartil (IQR)\n",
    "#     IQR = Q3 - Q1\n",
    "    \n",
    "#     # Definir os limites inferior e superior\n",
    "#     lower_bound = Q1 - 1.5 * IQR\n",
    "#     upper_bound = Q3 + 1.5 * IQR\n",
    "    \n",
    "#     # Filtrar o dataframe para remover outliers\n",
    "#     filtered_df = df[(df[column] >= lower_bound) & (df[column] <= upper_bound)]\n",
    "    \n",
    "#     return filtered_df\n",
    "\n",
    "# filtered_df = remove_outliers(fraud_df, 'amount')\n",
    "# filtered_df"
   ]
  },
  {
   "cell_type": "code",
   "execution_count": 293,
   "metadata": {},
   "outputs": [],
   "source": [
    "# # Analisando as compras realizadas por cada categoria.\n",
    "\n",
    "# plt.subplots(figsize=(30,8))\n",
    "# sns.boxplot(data=filtered_df, x='category', y='amount')\n",
    "# plt.show()"
   ]
  },
  {
   "cell_type": "code",
   "execution_count": 294,
   "metadata": {},
   "outputs": [],
   "source": [
    "# # Analisando as compras realizadas por cada categoria, agora verificando os casos onde houveram fraudes\n",
    "\n",
    "# cases = filtered_df.loc[filtered_df['fraud'] == 1].shape[0]\n",
    "# print(f'Quantidade de casos de fraude: {cases}')\n",
    "\n",
    "# plt.subplots(figsize=(30,8))\n",
    "# sns.boxplot(data=filtered_df.loc[filtered_df['fraud'] == 1], x='category', y='amount')\n",
    "# plt.show()"
   ]
  },
  {
   "cell_type": "code",
   "execution_count": 295,
   "metadata": {},
   "outputs": [],
   "source": [
    "# # Verificando o comportamento geral dos casos de compras, comparando valor x idade\n",
    "\n",
    "# order = ['0', '1', '2', '3', '4', '5', '6', 'U']\n",
    "\n",
    "# plt.subplots(figsize=(30,8))\n",
    "# sns.stripplot(data=filtered_df, x='age', y='amount')\n",
    "# plt.show()"
   ]
  },
  {
   "cell_type": "code",
   "execution_count": 296,
   "metadata": {},
   "outputs": [],
   "source": [
    "# # Verificando o comportamento geral dos casos de compras, comparando valor x idade\n",
    "\n",
    "# cases = filtered_df.loc[filtered_df['fraud'] == 1]\n",
    "\n",
    "# plt.subplots(figsize=(30,8))\n",
    "# sns.stripplot(data=cases, x='age', y='amount')\n",
    "# plt.show()"
   ]
  },
  {
   "cell_type": "markdown",
   "metadata": {},
   "source": [
    "# Pré-processamento dos dados\n",
    "\n",
    "Aqui nos iremos fazer o trabalho de transformar os dados em um formato que possa ser compreendido pelo modelo de Machine Learning.\n",
    "- Inicialmente, iremos transformar os dados de amount em categorias que possam ser convertidas em números para nosso modelo.\n",
    "- Em seguida iremos converter todas as categorias de texto para número, utilizando 2 métodos: Label enconder e One hot encoder.\n",
    "    - O primeiro método será aplicado em categorias que irão se encaixar melhor com a codificação de label.\n",
    "    - O segundo método irá lidar melhor com a variabilidade nas colunas gender e category.\n",
    "- Também iremos realizar a exclusão de colunas que não irão contribuir com o processamento do dataset pelo modelo de machine learning.\n",
    "- Depois iremos criar um balanceamento dos dados, igualando a quantidade de dados de fraude e casos que passaram como não-fraude.\n",
    "- Por fim, iremos separar nossos dados entre dados de treino e teste, e realizar a normalização dos dados, para melhorar a efetividade dos modelos a serem testados."
   ]
  },
  {
   "cell_type": "code",
   "execution_count": 416,
   "metadata": {},
   "outputs": [
    {
     "data": {
      "text/plain": [
       "Index(['step', 'customer', 'age', 'gender', 'merchant', 'category', 'amount',\n",
       "       'fraud', 'amount_category'],\n",
       "      dtype='object')"
      ]
     },
     "execution_count": 416,
     "metadata": {},
     "output_type": "execute_result"
    }
   ],
   "source": [
    "process_df = fraud_df\n",
    "fraud_df.columns"
   ]
  },
  {
   "cell_type": "markdown",
   "metadata": {},
   "source": [
    "Dado que o modelo de machine learning deve ser treinado com dados númericos, iremos iniciar a transformação dos dados de texto para numéricos.\n",
    "\n",
    "No caso dos dados de amount, a ideia é criar um intervalo para que possamos detectar, além do valor, qual intervalo aquela transação pode se envolver em uma fraude."
   ]
  },
  {
   "cell_type": "code",
   "execution_count": 417,
   "metadata": {},
   "outputs": [],
   "source": [
    "## Passo 1\n",
    "\n",
    "# Definindo novos intervalos (bins) para rebalancear a distribuição\n",
    "bins = [0, 20, 40, 60, 80, 100, 200, 400, 600, 800, 1000, 2000, 4000, 6000, 8000, 8400]\n",
    "labels = ['0-20', '20-40', '40-60', '60-80', '80-100', '100-200', '200-400', '400-600', '600-800', '800-1000', '1000-2000', '2000-4000', '4000-6000', '6000-8000', '8000-8400']\n",
    "\n",
    "# Criando uma nova coluna categorizada\n",
    "process_df['amount_category'] = pd.cut(process_df['amount'], bins=bins, labels=labels, include_lowest=True)\n",
    "\n",
    "# print(process_df['amount_category'].value_counts())"
   ]
  },
  {
   "cell_type": "markdown",
   "metadata": {},
   "source": [
    "Esta etapa de preprocessing irá facilitar a conversão dos dados de texto. Aqui se envolvem os métodos:\n",
    "- Label Encoder: iremos usar para dados que possam ser ordenados. Isso não terá importância para customer e merchant, e será útil para a categoria do amount.\n",
    "- One Hot Encoder: nos dará liberdade no pré-processamento de dados não ordenados."
   ]
  },
  {
   "cell_type": "code",
   "execution_count": 418,
   "metadata": {},
   "outputs": [],
   "source": [
    "## Passo 2\n",
    "\n",
    "# Aqui estamos convertendo textos para registros numéricos, permitindo que o algoritmo de machine learning leia as colunas\n",
    "label_encoder = preprocessing.LabelEncoder()\n",
    "one_hot_encoder_gender = preprocessing.OneHotEncoder(sparse_output=False)\n",
    "one_hot_encoder_category = preprocessing.OneHotEncoder(sparse_output=False)\n",
    "\n",
    "# columns_1 = ['customer', 'merchant', 'amount_category', 'zipcodeOri', 'zipMerchant']\n",
    "columns_1 = ['customer', 'merchant', 'amount_category']\n",
    "columns_2 = ['gender', 'category']\n",
    "\n",
    "# Pré-processamento final dos dados\n",
    "fraud_ml = process_df.copy()\n",
    "fraud_ml.replace(\"'\", \"\", regex=True, inplace=True)\n",
    "fraud_ml['age'].replace(\"U\", \"7\", inplace=True)\n",
    "fraud_ml['age'] = fraud_ml['age'].astype(int)\n",
    "\n",
    "for i in columns_1:\n",
    "    fraud_ml[i] = label_encoder.fit_transform(fraud_ml[i])\n",
    "\n",
    "# Ajustando e transformando o OneHotEncoder no mesmo conjunto de dados\n",
    "fraud_ml_gender = one_hot_encoder_gender.fit_transform(fraud_ml[['gender']])\n",
    "fraud_ml_category = one_hot_encoder_category.fit_transform(fraud_ml[['category']])\n",
    "\n",
    "# Obtendo os nomes das colunas corretamente\n",
    "df_gender_encoded = pd.DataFrame(fraud_ml_gender, columns=one_hot_encoder_gender.get_feature_names_out(['gender']))\n",
    "df_category_encoded = pd.DataFrame(fraud_ml_category, columns=one_hot_encoder_category.get_feature_names_out(['category']))\n",
    "\n",
    "# Concatenando os resultados\n",
    "fraud_ml = pd.concat([fraud_ml, df_gender_encoded, df_category_encoded], axis=1)\n",
    "fraud_ml = pd.concat([fraud_ml, df_category_encoded], axis=1)"
   ]
  },
  {
   "cell_type": "code",
   "execution_count": 419,
   "metadata": {},
   "outputs": [
    {
     "data": {
      "text/html": [
       "<div>\n",
       "<style scoped>\n",
       "    .dataframe tbody tr th:only-of-type {\n",
       "        vertical-align: middle;\n",
       "    }\n",
       "\n",
       "    .dataframe tbody tr th {\n",
       "        vertical-align: top;\n",
       "    }\n",
       "\n",
       "    .dataframe thead th {\n",
       "        text-align: right;\n",
       "    }\n",
       "</style>\n",
       "<table border=\"1\" class=\"dataframe\">\n",
       "  <thead>\n",
       "    <tr style=\"text-align: right;\">\n",
       "      <th></th>\n",
       "      <th>step</th>\n",
       "      <th>customer</th>\n",
       "      <th>age</th>\n",
       "      <th>gender</th>\n",
       "      <th>merchant</th>\n",
       "      <th>category</th>\n",
       "      <th>amount</th>\n",
       "      <th>fraud</th>\n",
       "      <th>amount_category</th>\n",
       "      <th>gender_0</th>\n",
       "      <th>...</th>\n",
       "      <th>category_es_home</th>\n",
       "      <th>category_es_hotelservices</th>\n",
       "      <th>category_es_hyper</th>\n",
       "      <th>category_es_leisure</th>\n",
       "      <th>category_es_otherservices</th>\n",
       "      <th>category_es_sportsandtoys</th>\n",
       "      <th>category_es_tech</th>\n",
       "      <th>category_es_transportation</th>\n",
       "      <th>category_es_travel</th>\n",
       "      <th>category_es_wellnessandbeauty</th>\n",
       "    </tr>\n",
       "  </thead>\n",
       "  <tbody>\n",
       "    <tr>\n",
       "      <th>0</th>\n",
       "      <td>0</td>\n",
       "      <td>210</td>\n",
       "      <td>4</td>\n",
       "      <td>2</td>\n",
       "      <td>30</td>\n",
       "      <td>es_transportation</td>\n",
       "      <td>4.55</td>\n",
       "      <td>0</td>\n",
       "      <td>0</td>\n",
       "      <td>0.0</td>\n",
       "      <td>...</td>\n",
       "      <td>0.0</td>\n",
       "      <td>0.0</td>\n",
       "      <td>0.0</td>\n",
       "      <td>0.0</td>\n",
       "      <td>0.0</td>\n",
       "      <td>0.0</td>\n",
       "      <td>0.0</td>\n",
       "      <td>1.0</td>\n",
       "      <td>0.0</td>\n",
       "      <td>0.0</td>\n",
       "    </tr>\n",
       "    <tr>\n",
       "      <th>1</th>\n",
       "      <td>0</td>\n",
       "      <td>2753</td>\n",
       "      <td>2</td>\n",
       "      <td>2</td>\n",
       "      <td>30</td>\n",
       "      <td>es_transportation</td>\n",
       "      <td>39.68</td>\n",
       "      <td>0</td>\n",
       "      <td>3</td>\n",
       "      <td>0.0</td>\n",
       "      <td>...</td>\n",
       "      <td>0.0</td>\n",
       "      <td>0.0</td>\n",
       "      <td>0.0</td>\n",
       "      <td>0.0</td>\n",
       "      <td>0.0</td>\n",
       "      <td>0.0</td>\n",
       "      <td>0.0</td>\n",
       "      <td>1.0</td>\n",
       "      <td>0.0</td>\n",
       "      <td>0.0</td>\n",
       "    </tr>\n",
       "    <tr>\n",
       "      <th>2</th>\n",
       "      <td>0</td>\n",
       "      <td>2285</td>\n",
       "      <td>4</td>\n",
       "      <td>1</td>\n",
       "      <td>18</td>\n",
       "      <td>es_transportation</td>\n",
       "      <td>26.89</td>\n",
       "      <td>0</td>\n",
       "      <td>3</td>\n",
       "      <td>0.0</td>\n",
       "      <td>...</td>\n",
       "      <td>0.0</td>\n",
       "      <td>0.0</td>\n",
       "      <td>0.0</td>\n",
       "      <td>0.0</td>\n",
       "      <td>0.0</td>\n",
       "      <td>0.0</td>\n",
       "      <td>0.0</td>\n",
       "      <td>1.0</td>\n",
       "      <td>0.0</td>\n",
       "      <td>0.0</td>\n",
       "    </tr>\n",
       "    <tr>\n",
       "      <th>3</th>\n",
       "      <td>0</td>\n",
       "      <td>1650</td>\n",
       "      <td>3</td>\n",
       "      <td>2</td>\n",
       "      <td>30</td>\n",
       "      <td>es_transportation</td>\n",
       "      <td>17.25</td>\n",
       "      <td>0</td>\n",
       "      <td>0</td>\n",
       "      <td>0.0</td>\n",
       "      <td>...</td>\n",
       "      <td>0.0</td>\n",
       "      <td>0.0</td>\n",
       "      <td>0.0</td>\n",
       "      <td>0.0</td>\n",
       "      <td>0.0</td>\n",
       "      <td>0.0</td>\n",
       "      <td>0.0</td>\n",
       "      <td>1.0</td>\n",
       "      <td>0.0</td>\n",
       "      <td>0.0</td>\n",
       "    </tr>\n",
       "    <tr>\n",
       "      <th>4</th>\n",
       "      <td>0</td>\n",
       "      <td>3585</td>\n",
       "      <td>5</td>\n",
       "      <td>2</td>\n",
       "      <td>30</td>\n",
       "      <td>es_transportation</td>\n",
       "      <td>35.72</td>\n",
       "      <td>0</td>\n",
       "      <td>3</td>\n",
       "      <td>0.0</td>\n",
       "      <td>...</td>\n",
       "      <td>0.0</td>\n",
       "      <td>0.0</td>\n",
       "      <td>0.0</td>\n",
       "      <td>0.0</td>\n",
       "      <td>0.0</td>\n",
       "      <td>0.0</td>\n",
       "      <td>0.0</td>\n",
       "      <td>1.0</td>\n",
       "      <td>0.0</td>\n",
       "      <td>0.0</td>\n",
       "    </tr>\n",
       "  </tbody>\n",
       "</table>\n",
       "<p>5 rows × 43 columns</p>\n",
       "</div>"
      ],
      "text/plain": [
       "   step  customer  age  gender  merchant           category  amount  fraud  \\\n",
       "0     0       210    4       2        30  es_transportation    4.55      0   \n",
       "1     0      2753    2       2        30  es_transportation   39.68      0   \n",
       "2     0      2285    4       1        18  es_transportation   26.89      0   \n",
       "3     0      1650    3       2        30  es_transportation   17.25      0   \n",
       "4     0      3585    5       2        30  es_transportation   35.72      0   \n",
       "\n",
       "   amount_category  gender_0  ...  category_es_home  \\\n",
       "0                0       0.0  ...               0.0   \n",
       "1                3       0.0  ...               0.0   \n",
       "2                3       0.0  ...               0.0   \n",
       "3                0       0.0  ...               0.0   \n",
       "4                3       0.0  ...               0.0   \n",
       "\n",
       "   category_es_hotelservices  category_es_hyper  category_es_leisure  \\\n",
       "0                        0.0                0.0                  0.0   \n",
       "1                        0.0                0.0                  0.0   \n",
       "2                        0.0                0.0                  0.0   \n",
       "3                        0.0                0.0                  0.0   \n",
       "4                        0.0                0.0                  0.0   \n",
       "\n",
       "   category_es_otherservices  category_es_sportsandtoys  category_es_tech  \\\n",
       "0                        0.0                        0.0               0.0   \n",
       "1                        0.0                        0.0               0.0   \n",
       "2                        0.0                        0.0               0.0   \n",
       "3                        0.0                        0.0               0.0   \n",
       "4                        0.0                        0.0               0.0   \n",
       "\n",
       "   category_es_transportation  category_es_travel  \\\n",
       "0                         1.0                 0.0   \n",
       "1                         1.0                 0.0   \n",
       "2                         1.0                 0.0   \n",
       "3                         1.0                 0.0   \n",
       "4                         1.0                 0.0   \n",
       "\n",
       "   category_es_wellnessandbeauty  \n",
       "0                            0.0  \n",
       "1                            0.0  \n",
       "2                            0.0  \n",
       "3                            0.0  \n",
       "4                            0.0  \n",
       "\n",
       "[5 rows x 43 columns]"
      ]
     },
     "execution_count": 419,
     "metadata": {},
     "output_type": "execute_result"
    }
   ],
   "source": [
    "fraud_ml = fraud_ml.copy().dropna(axis=0)\n",
    "fraud_ml.head()"
   ]
  },
  {
   "cell_type": "code",
   "execution_count": 444,
   "metadata": {},
   "outputs": [],
   "source": [
    "# ## Correlação inicial dos dados. Este passo não deve ser incluído como passo de análise do modelo, e sim para verificação de correlação de colunas apenas. Pode ser ignorado no trabalho final\n",
    "\n",
    "# # Calculando a matriz de correlação\n",
    "# correlation_matrix = fraud_ml.corr()\n",
    "\n",
    "# # Criando um mapa de calor\n",
    "# plt.figure(figsize=(20,20))\n",
    "# sns.heatmap(correlation_matrix, annot=True, cmap='coolwarm', center=0)\n",
    "# plt.title('Mapa de Calor da Correlação')\n",
    "# plt.show()"
   ]
  },
  {
   "cell_type": "markdown",
   "metadata": {},
   "source": [
    "Aqui estamos simplesmente eliminando 3 colunas que não possuem mais uso dentro do nosso dataset que servirá de base para o treino do modelo."
   ]
  },
  {
   "cell_type": "code",
   "execution_count": 421,
   "metadata": {},
   "outputs": [],
   "source": [
    "## Passo 3\n",
    "\n",
    "# Removendo últimas colunas para montar o dataset que irá para treino\n",
    "fraud_ml.drop(['step', 'gender', 'category'], axis=1, inplace=True)"
   ]
  },
  {
   "cell_type": "markdown",
   "metadata": {},
   "source": [
    "Verificar a distribuição das classes nos dá uma visão de como ficará nosso dataset:"
   ]
  },
  {
   "cell_type": "code",
   "execution_count": 422,
   "metadata": {},
   "outputs": [
    {
     "name": "stdout",
     "output_type": "stream",
     "text": [
      "Distribuição original das classes: Counter({0: 587443, 1: 7200})\n"
     ]
    }
   ],
   "source": [
    "# Supondo que você tenha um DataFrame chamado df com suas características (features) e a variável alvo (target)\n",
    "# Substitua 'x' com suas características e 'y' com sua variável alvo\n",
    "x = fraud_ml.drop('fraud', axis=1)\n",
    "y = fraud_ml['fraud']\n",
    "\n",
    "# Mostra a distribuição original das classes\n",
    "print(f'Distribuição original das classes: {Counter(y)}')"
   ]
  },
  {
   "cell_type": "markdown",
   "metadata": {},
   "source": [
    "No próximo passo, iremos diminuir o número de dados que estão na maior classe, de forma a deixar o modelo menos propenso a olhar e prever a classe de maior valor\n",
    "\n",
    "Isso se dá pois há um desbalanceamento de dados, o que pode deixar nosso modelo muito bom em apenas 1 classe"
   ]
  },
  {
   "cell_type": "code",
   "execution_count": 445,
   "metadata": {},
   "outputs": [
    {
     "name": "stdout",
     "output_type": "stream",
     "text": [
      "Nova distribuição das classes: Counter({0: 7200, 1: 7200})\n"
     ]
    }
   ],
   "source": [
    "## Passo 4\n",
    "\n",
    "# Cria o objeto RandomUnderSampler\n",
    "rus = NearMiss()\n",
    "X_resampled, y_resampled = rus.fit_resample(x, y)\n",
    "\n",
    "# Este trecho comentado pode ser utilizado para avaliar nosso modelo com oversampling. Por hora, o melhor nos testes é o undersampling, já habilitado aqui\n",
    "# smote = SMOTE(random_state=42)\n",
    "# X_resampled, y_resampled = smote.fit_resample(x, y)\n",
    "\n",
    "# Mostra a nova distribuição das classes\n",
    "print(f'Nova distribuição das classes: {Counter(y_resampled)}')\n"
   ]
  },
  {
   "cell_type": "code",
   "execution_count": 446,
   "metadata": {},
   "outputs": [
    {
     "data": {
      "text/html": [
       "<div>\n",
       "<style scoped>\n",
       "    .dataframe tbody tr th:only-of-type {\n",
       "        vertical-align: middle;\n",
       "    }\n",
       "\n",
       "    .dataframe tbody tr th {\n",
       "        vertical-align: top;\n",
       "    }\n",
       "\n",
       "    .dataframe thead th {\n",
       "        text-align: right;\n",
       "    }\n",
       "</style>\n",
       "<table border=\"1\" class=\"dataframe\">\n",
       "  <thead>\n",
       "    <tr style=\"text-align: right;\">\n",
       "      <th></th>\n",
       "      <th>customer</th>\n",
       "      <th>age</th>\n",
       "      <th>merchant</th>\n",
       "      <th>amount</th>\n",
       "      <th>amount_category</th>\n",
       "      <th>gender_0</th>\n",
       "      <th>gender_1</th>\n",
       "      <th>gender_2</th>\n",
       "      <th>gender_3</th>\n",
       "      <th>category_es_barsandrestaurants</th>\n",
       "      <th>...</th>\n",
       "      <th>category_es_hotelservices</th>\n",
       "      <th>category_es_hyper</th>\n",
       "      <th>category_es_leisure</th>\n",
       "      <th>category_es_otherservices</th>\n",
       "      <th>category_es_sportsandtoys</th>\n",
       "      <th>category_es_tech</th>\n",
       "      <th>category_es_transportation</th>\n",
       "      <th>category_es_travel</th>\n",
       "      <th>category_es_wellnessandbeauty</th>\n",
       "      <th>fraud</th>\n",
       "    </tr>\n",
       "  </thead>\n",
       "  <tbody>\n",
       "    <tr>\n",
       "      <th>0</th>\n",
       "      <td>1838</td>\n",
       "      <td>4</td>\n",
       "      <td>36</td>\n",
       "      <td>30.57</td>\n",
       "      <td>3</td>\n",
       "      <td>0.0</td>\n",
       "      <td>1.0</td>\n",
       "      <td>0.0</td>\n",
       "      <td>0.0</td>\n",
       "      <td>0.0</td>\n",
       "      <td>...</td>\n",
       "      <td>0.0</td>\n",
       "      <td>0.0</td>\n",
       "      <td>0.0</td>\n",
       "      <td>0.0</td>\n",
       "      <td>0.0</td>\n",
       "      <td>0.0</td>\n",
       "      <td>0.0</td>\n",
       "      <td>0.0</td>\n",
       "      <td>0.0</td>\n",
       "      <td>0</td>\n",
       "    </tr>\n",
       "    <tr>\n",
       "      <th>1</th>\n",
       "      <td>615</td>\n",
       "      <td>5</td>\n",
       "      <td>43</td>\n",
       "      <td>57.20</td>\n",
       "      <td>6</td>\n",
       "      <td>0.0</td>\n",
       "      <td>1.0</td>\n",
       "      <td>0.0</td>\n",
       "      <td>0.0</td>\n",
       "      <td>0.0</td>\n",
       "      <td>...</td>\n",
       "      <td>0.0</td>\n",
       "      <td>1.0</td>\n",
       "      <td>0.0</td>\n",
       "      <td>0.0</td>\n",
       "      <td>0.0</td>\n",
       "      <td>0.0</td>\n",
       "      <td>0.0</td>\n",
       "      <td>0.0</td>\n",
       "      <td>0.0</td>\n",
       "      <td>0</td>\n",
       "    </tr>\n",
       "    <tr>\n",
       "      <th>2</th>\n",
       "      <td>769</td>\n",
       "      <td>5</td>\n",
       "      <td>9</td>\n",
       "      <td>0.67</td>\n",
       "      <td>0</td>\n",
       "      <td>0.0</td>\n",
       "      <td>1.0</td>\n",
       "      <td>0.0</td>\n",
       "      <td>0.0</td>\n",
       "      <td>1.0</td>\n",
       "      <td>...</td>\n",
       "      <td>0.0</td>\n",
       "      <td>0.0</td>\n",
       "      <td>0.0</td>\n",
       "      <td>0.0</td>\n",
       "      <td>0.0</td>\n",
       "      <td>0.0</td>\n",
       "      <td>0.0</td>\n",
       "      <td>0.0</td>\n",
       "      <td>0.0</td>\n",
       "      <td>0</td>\n",
       "    </tr>\n",
       "    <tr>\n",
       "      <th>3</th>\n",
       "      <td>4098</td>\n",
       "      <td>4</td>\n",
       "      <td>15</td>\n",
       "      <td>70.53</td>\n",
       "      <td>9</td>\n",
       "      <td>0.0</td>\n",
       "      <td>0.0</td>\n",
       "      <td>1.0</td>\n",
       "      <td>0.0</td>\n",
       "      <td>0.0</td>\n",
       "      <td>...</td>\n",
       "      <td>0.0</td>\n",
       "      <td>0.0</td>\n",
       "      <td>0.0</td>\n",
       "      <td>0.0</td>\n",
       "      <td>1.0</td>\n",
       "      <td>0.0</td>\n",
       "      <td>0.0</td>\n",
       "      <td>0.0</td>\n",
       "      <td>0.0</td>\n",
       "      <td>0</td>\n",
       "    </tr>\n",
       "    <tr>\n",
       "      <th>4</th>\n",
       "      <td>769</td>\n",
       "      <td>5</td>\n",
       "      <td>30</td>\n",
       "      <td>26.17</td>\n",
       "      <td>3</td>\n",
       "      <td>0.0</td>\n",
       "      <td>1.0</td>\n",
       "      <td>0.0</td>\n",
       "      <td>0.0</td>\n",
       "      <td>0.0</td>\n",
       "      <td>...</td>\n",
       "      <td>0.0</td>\n",
       "      <td>0.0</td>\n",
       "      <td>0.0</td>\n",
       "      <td>0.0</td>\n",
       "      <td>0.0</td>\n",
       "      <td>0.0</td>\n",
       "      <td>1.0</td>\n",
       "      <td>0.0</td>\n",
       "      <td>0.0</td>\n",
       "      <td>0</td>\n",
       "    </tr>\n",
       "  </tbody>\n",
       "</table>\n",
       "<p>5 rows × 40 columns</p>\n",
       "</div>"
      ],
      "text/plain": [
       "   customer  age  merchant  amount  amount_category  gender_0  gender_1  \\\n",
       "0      1838    4        36   30.57                3       0.0       1.0   \n",
       "1       615    5        43   57.20                6       0.0       1.0   \n",
       "2       769    5         9    0.67                0       0.0       1.0   \n",
       "3      4098    4        15   70.53                9       0.0       0.0   \n",
       "4       769    5        30   26.17                3       0.0       1.0   \n",
       "\n",
       "   gender_2  gender_3  category_es_barsandrestaurants  ...  \\\n",
       "0       0.0       0.0                             0.0  ...   \n",
       "1       0.0       0.0                             0.0  ...   \n",
       "2       0.0       0.0                             1.0  ...   \n",
       "3       1.0       0.0                             0.0  ...   \n",
       "4       0.0       0.0                             0.0  ...   \n",
       "\n",
       "   category_es_hotelservices  category_es_hyper  category_es_leisure  \\\n",
       "0                        0.0                0.0                  0.0   \n",
       "1                        0.0                1.0                  0.0   \n",
       "2                        0.0                0.0                  0.0   \n",
       "3                        0.0                0.0                  0.0   \n",
       "4                        0.0                0.0                  0.0   \n",
       "\n",
       "   category_es_otherservices  category_es_sportsandtoys  category_es_tech  \\\n",
       "0                        0.0                        0.0               0.0   \n",
       "1                        0.0                        0.0               0.0   \n",
       "2                        0.0                        0.0               0.0   \n",
       "3                        0.0                        1.0               0.0   \n",
       "4                        0.0                        0.0               0.0   \n",
       "\n",
       "   category_es_transportation  category_es_travel  \\\n",
       "0                         0.0                 0.0   \n",
       "1                         0.0                 0.0   \n",
       "2                         0.0                 0.0   \n",
       "3                         0.0                 0.0   \n",
       "4                         1.0                 0.0   \n",
       "\n",
       "   category_es_wellnessandbeauty  fraud  \n",
       "0                            0.0      0  \n",
       "1                            0.0      0  \n",
       "2                            0.0      0  \n",
       "3                            0.0      0  \n",
       "4                            0.0      0  \n",
       "\n",
       "[5 rows x 40 columns]"
      ]
     },
     "execution_count": 446,
     "metadata": {},
     "output_type": "execute_result"
    }
   ],
   "source": [
    "# Converte de volta para DataFrame se necessário\n",
    "df_resampled = pd.DataFrame(X_resampled, columns=x.columns)\n",
    "df_resampled['fraud'] = y_resampled\n",
    "\n",
    "# df_resampled.head()\n",
    "fraud_ml = df_resampled\n",
    "fraud_ml.head()"
   ]
  },
  {
   "cell_type": "markdown",
   "metadata": {},
   "source": [
    "Aqui iremos separar os dados alvo (y) do resto do dataset(x) e separar os dados de treino e teste do modelo de machine learning"
   ]
  },
  {
   "cell_type": "code",
   "execution_count": 425,
   "metadata": {},
   "outputs": [],
   "source": [
    "## Passo 5\n",
    "\n",
    "x = fraud_ml.drop(columns=['fraud'])\n",
    "y = fraud_ml['fraud']\n",
    "x_train, x_test, y_train, y_test = train_test_split(x, y, test_size= 0.3, random_state = 42, stratify=y, shuffle=True)"
   ]
  },
  {
   "cell_type": "markdown",
   "metadata": {},
   "source": [
    "Normalização, o passo abaixo, promoverá a possibilidade do modelo ter dados padronizados entre 0 e 1, obtendo contribuição de mais colunas dentro do treinamento"
   ]
  },
  {
   "cell_type": "code",
   "execution_count": 426,
   "metadata": {},
   "outputs": [],
   "source": [
    "## Passo 5\n",
    "\n",
    "scaler = MinMaxScaler()\n",
    "x_train = scaler.fit_transform(x_train)\n",
    "x_test = scaler.transform(x_test)"
   ]
  },
  {
   "cell_type": "markdown",
   "metadata": {},
   "source": [
    "# Montagem do pipeline para criação do algoritmo\n",
    "\n",
    "Aqui, iremos iniciar o treinamento de nosso modelo.\n",
    "Nosso problema atual tem como premissa um resultado binário (0 ou 1, fraude ou não fraudulento), e que será avaliado a partir de 2 modelos: Random Forest Classifier e Logistic Regression\n",
    "\n",
    "Nós iremos fazer uma leve varredura nos melhores parâmetros para ambos os modelos e, em seguida, realizar seu treinamento a partir dos hiperparâmetros selecionados.\n",
    "Note que esse treinamento será feito de forma simples no momento atual.\n",
    "\n",
    "Em seguida, iremos fazer a análise por meio de 2 métodos:\n",
    "- Análise pela Curva ROC\n",
    "- Matriz de confusão, analisando as taxas de:\n",
    "    - TP = true positive (verdadeiros positivos): casos reais de fraude\n",
    "    - FP = false positive (falsos positivos): casos marcados como fraude, mas que não são\n",
    "    - FN = false negative (verdadeiros negativos): casos marcados como não fraudulentos, mas são casos de fraude\n",
    "    - TN = true negative (falsos negativos): casos não fraudulentos"
   ]
  },
  {
   "cell_type": "markdown",
   "metadata": {},
   "source": [
    "## Random Forest Classifier"
   ]
  },
  {
   "cell_type": "code",
   "execution_count": 451,
   "metadata": {},
   "outputs": [
    {
     "name": "stdout",
     "output_type": "stream",
     "text": [
      "Melhores hiperparâmetros: {'bootstrap': True, 'max_depth': None, 'min_samples_leaf': 1, 'min_samples_split': 10, 'n_estimators': 200}\n",
      "Acurácia com os melhores hiperparâmetros: 0.9696759259259259\n"
     ]
    }
   ],
   "source": [
    "# Definindo o modelo\n",
    "rf = RandomForestClassifier(random_state=42)\n",
    "\n",
    "# Definindo a grade de parâmetros\n",
    "param_grid = {\n",
    "    'n_estimators': [50, 100, 200],\n",
    "    'max_depth': [None, 10, 20, 30],\n",
    "    'min_samples_split': [2, 5, 10],\n",
    "    'min_samples_leaf': [1, 2, 4],\n",
    "    'bootstrap': [True, False]\n",
    "}\n",
    "\n",
    "# Configurando o GridSearchCV\n",
    "grid_search = GridSearchCV(estimator=rf, param_grid=param_grid, cv=5, scoring='accuracy', n_jobs=-1)\n",
    "\n",
    "# Ajustando o modelo\n",
    "grid_search.fit(x_train, y_train)\n",
    "\n",
    "# Melhor combinação de hiperparâmetros\n",
    "best_params = grid_search.best_params_\n",
    "print(f\"Melhores hiperparâmetros: {best_params}\")\n",
    "\n",
    "# Avaliando o modelo com os melhores hiperparâmetros\n",
    "best_model = grid_search.best_estimator_\n",
    "y_pred = best_model.predict(x_test)\n",
    "accuracy = accuracy_score(y_test, y_pred)\n",
    "print(f\"Acurácia com os melhores hiperparâmetros: {accuracy}\")"
   ]
  },
  {
   "cell_type": "code",
   "execution_count": 452,
   "metadata": {},
   "outputs": [
    {
     "name": "stdout",
     "output_type": "stream",
     "text": [
      "Acurácia: 0.9696759259259259\n",
      "Precisão: 0.9588421528720036\n",
      "Recall: 0.9814814814814815\n",
      "F1-Score: 0.9700297414779226\n",
      "AUC-ROC: 0.9696759259259259\n"
     ]
    }
   ],
   "source": [
    "# Random Forest Classifier\n",
    "rf = RandomForestClassifier(bootstrap=True, max_depth=None, min_samples_leaf=1, min_samples_split=10, n_estimators=200, class_weight='balanced', random_state=42) \n",
    "model = rf.fit(x_train, y_train)\n",
    "\n",
    "y_pred = model.predict(x_test)\n",
    "# accuracy_score(y_test, y_pred)\n",
    "\n",
    "# Avaliar o modelo\n",
    "accuracy = accuracy_score(y_test, y_pred)\n",
    "precision = precision_score(y_test, y_pred)\n",
    "recall = recall_score(y_test, y_pred)\n",
    "f1 = f1_score(y_test, y_pred)\n",
    "roc_auc = roc_auc_score(y_test, y_pred)\n",
    "\n",
    "print(f\"Acurácia: {accuracy}\")\n",
    "print(f\"Precisão: {precision}\")\n",
    "print(f\"Recall: {recall}\")\n",
    "print(f\"F1-Score: {f1}\")\n",
    "print(f\"AUC-ROC: {roc_auc}\")"
   ]
  },
  {
   "cell_type": "code",
   "execution_count": 453,
   "metadata": {},
   "outputs": [
    {
     "data": {
      "image/png": "[encoded data removed]",
      "text/plain": [
       "<Figure size 720x432 with 1 Axes>"
      ]
     },
     "metadata": {
      "needs_background": "light"
     },
     "output_type": "display_data"
    }
   ],
   "source": [
    "y_pred_prob = model.predict_proba(x_test)[:,1]\n",
    "\n",
    "# Gera fpr, tpr e thresholds\n",
    "fpr, tpr, thresholds = roc_curve(y_test, y_pred_prob)\n",
    "\n",
    "# curva ROC\n",
    "plt.figure(figsize=(10, 6))\n",
    "plt.plot([0, 1], [0, 1], 'k--')\n",
    "plt.plot(fpr, tpr)\n",
    "plt.xlabel('False Positive Rate')\n",
    "plt.ylabel('True Positive Rate')\n",
    "plt.title('ROC Curve')\n",
    "plt.show()"
   ]
  },
  {
   "cell_type": "code",
   "execution_count": 454,
   "metadata": {},
   "outputs": [
    {
     "name": "stdout",
     "output_type": "stream",
     "text": [
      "Relatório de classificação:\n",
      "              precision    recall  f1-score   support\n",
      "\n",
      "           0     0.9810    0.9579    0.9693      2160\n",
      "           1     0.9588    0.9815    0.9700      2160\n",
      "\n",
      "    accuracy                         0.9697      4320\n",
      "   macro avg     0.9699    0.9697    0.9697      4320\n",
      "weighted avg     0.9699    0.9697    0.9697      4320\n",
      "\n",
      "AUC ROC: 0.9697\n",
      "\n"
     ]
    },
    {
     "data": {
      "image/png": "[encoded data removed]",
      "text/plain": [
       "<Figure size 432x288 with 2 Axes>"
      ]
     },
     "metadata": {
      "needs_background": "light"
     },
     "output_type": "display_data"
    }
   ],
   "source": [
    "# avaliando o desempenho do modelo treinado com dataset balanceado com random under sampler\n",
    "print(f'Relatório de classificação:\\n{classification_report(y_test, y_pred, digits=4)}')\n",
    "\n",
    "# avaliando AUC do modelo\n",
    "print(\"AUC ROC: {:.4f}\\n\".format(roc_auc_score(y_test, y_pred)))\n",
    "\n",
    "# matriz de confusão\n",
    "fig, ax = plt.subplots()\n",
    "\n",
    "sns.heatmap(confusion_matrix(y_test, y_pred, normalize='true'), cmap='Blues', annot=True, ax=ax)\n",
    "\n",
    "ax.set_ylabel(\"Valores reais\")\n",
    "ax.set_xlabel(\"Valores previstos\")\n",
    "\n",
    "# plt.savefig('results-rus.png')\n",
    "\n",
    "plt.tight_layout()"
   ]
  },
  {
   "cell_type": "markdown",
   "metadata": {},
   "source": [
    "## Resultados dos testes com Random Forest\n",
    "\n",
    "Como é possível ver, por meio da matriz de confusão vemos uma alta precisão para a verificação de casos de verdadeiros positivos (TP=98%) em relação ao valor real.\n",
    "\n",
    "Ainda assim, os casos negativos (TN=96%) mostraram cerca de 4 em cada 100 casos erroneamente como casos fraudulentos."
   ]
  },
  {
   "cell_type": "code",
   "execution_count": 431,
   "metadata": {},
   "outputs": [],
   "source": [
    "## Teste, pular para a próxima célula\n",
    "\n",
    "# # Listas para armazenar os resultados\n",
    "# train_errors = []\n",
    "# test_errors = []\n",
    "# max_depths = range(1,10)\n",
    "\n",
    "# # Treinando e avaliando o modelo para diferentes valores de max_depth\n",
    "# for max_depth in max_depths:\n",
    "#     model_train = RandomForestClassifier(max_depth=max_depth, min_samples_split=6, n_estimators=50, random_state=42)\n",
    "#     model_train.fit(x_train, y_train)\n",
    "    \n",
    "#     # Previsões no conjunto de treino e teste\n",
    "#     y_train_pred = model_train.predict(x_train)\n",
    "#     y_test_pred = model_train.predict(x_test)\n",
    "    \n",
    "#     # Calculando o MAE\n",
    "#     train_mae = mean_absolute_error(y_train, y_train_pred)\n",
    "#     test_mae = mean_absolute_error(y_test, y_test_pred)\n",
    "    \n",
    "#     # Armazenando os resultados\n",
    "#     train_errors.append(train_mae)\n",
    "#     test_errors.append(test_mae)\n",
    "\n",
    "# # Plotando os resultados\n",
    "# plt.figure(figsize=(10, 6))\n",
    "# plt.plot(max_depths, train_errors, label='Train MAE', marker='o')\n",
    "# plt.plot(max_depths, test_errors, label='Test MAE', marker='o')\n",
    "# plt.xlabel('max_depth')\n",
    "# plt.ylabel('Mean Absolute Error')\n",
    "# plt.title('MAE vs max_depth for RandomForestClassifier')\n",
    "# plt.legend()\n",
    "# plt.grid(True)\n",
    "# plt.show()"
   ]
  },
  {
   "cell_type": "code",
   "execution_count": 432,
   "metadata": {},
   "outputs": [
    {
     "name": "stdout",
     "output_type": "stream",
     "text": [
      "Melhores hiperparâmetros: {'C': 10, 'penalty': 'l1', 'solver': 'liblinear'}\n",
      "Acurácia com os melhores hiperparâmetros: 0.9618055555555556\n"
     ]
    }
   ],
   "source": [
    "# Definindo o modelo\n",
    "lr = LogisticRegression()\n",
    "\n",
    "# Definindo a grade de parâmetros\n",
    "param_grid = {\n",
    "    'C': [0.01, 0.1, 1, 10, 25, 50, 100, 200],\n",
    "    'penalty': ['l1', 'l2', 'elasticnet', 'none'],\n",
    "    'solver': ['liblinear', 'saga', 'lbfgs', 'newton-cg', 'sag']\n",
    "}\n",
    "\n",
    "# Configurando o GridSearchCV\n",
    "grid_search = GridSearchCV(estimator=lr, param_grid=param_grid, cv=10, scoring='accuracy', n_jobs=-1)\n",
    "\n",
    "# Ajustando o modelo\n",
    "grid_search.fit(x_train, y_train)\n",
    "\n",
    "# Melhor combinação de hiperparâmetros\n",
    "best_params = grid_search.best_params_\n",
    "print(f\"Melhores hiperparâmetros: {best_params}\")\n",
    "\n",
    "# Avaliando o modelo com os melhores hiperparâmetros\n",
    "best_model = grid_search.best_estimator_\n",
    "y_pred = best_model.predict(x_test)\n",
    "accuracy = accuracy_score(y_test, y_pred)\n",
    "print(f\"Acurácia com os melhores hiperparâmetros: {accuracy}\")\n"
   ]
  },
  {
   "cell_type": "code",
   "execution_count": 455,
   "metadata": {},
   "outputs": [
    {
     "name": "stdout",
     "output_type": "stream",
     "text": [
      "Acurácia: 0.9618055555555556\n",
      "Precisão: 0.9423503325942351\n",
      "Recall: 0.9837962962962963\n",
      "F1-Score: 0.9626274065685164\n",
      "AUC-ROC: 0.9618055555555555\n"
     ]
    }
   ],
   "source": [
    "# Testando agora com logistic regression\n",
    "lr = LogisticRegression(C=10, penalty='l1', solver='liblinear')\n",
    "model_2 = lr.fit(x_train, y_train)\n",
    "\n",
    "y_pred = model_2.predict(x_test)\n",
    "# accuracy_score(y_test, y_pred)\n",
    "\n",
    "accuracy = accuracy_score(y_test, y_pred)\n",
    "precision = precision_score(y_test, y_pred)\n",
    "recall = recall_score(y_test, y_pred)\n",
    "f1 = f1_score(y_test, y_pred)\n",
    "roc_auc = roc_auc_score(y_test, y_pred)\n",
    "\n",
    "print(f\"Acurácia: {accuracy}\")\n",
    "print(f\"Precisão: {precision}\")\n",
    "print(f\"Recall: {recall}\")\n",
    "print(f\"F1-Score: {f1}\")\n",
    "print(f\"AUC-ROC: {roc_auc}\")"
   ]
  },
  {
   "cell_type": "code",
   "execution_count": 456,
   "metadata": {},
   "outputs": [
    {
     "data": {
      "image/png": "[encoded data removed]",
      "text/plain": [
       "<Figure size 720x432 with 1 Axes>"
      ]
     },
     "metadata": {
      "needs_background": "light"
     },
     "output_type": "display_data"
    }
   ],
   "source": [
    "y_pred_prob = model_2.predict_proba(x_test)[:,1]\n",
    "\n",
    "# Gera fpr, tpr e thresholds\n",
    "fpr, tpr, thresholds = roc_curve(y_test, y_pred_prob)\n",
    "\n",
    "# curva ROC\n",
    "plt.figure(figsize=(10, 6))\n",
    "plt.plot([0, 1], [0, 1], 'k--')\n",
    "plt.plot(fpr, tpr)\n",
    "plt.xlabel('False Positive Rate')\n",
    "plt.ylabel('True Positive Rate')\n",
    "plt.title('ROC Curve')\n",
    "plt.show()"
   ]
  },
  {
   "cell_type": "code",
   "execution_count": 457,
   "metadata": {},
   "outputs": [
    {
     "name": "stdout",
     "output_type": "stream",
     "text": [
      "Relatório de classificação:\n",
      "              precision    recall  f1-score   support\n",
      "\n",
      "           0     0.9831    0.9398    0.9609      2160\n",
      "           1     0.9424    0.9838    0.9626      2160\n",
      "\n",
      "    accuracy                         0.9618      4320\n",
      "   macro avg     0.9627    0.9618    0.9618      4320\n",
      "weighted avg     0.9627    0.9618    0.9618      4320\n",
      "\n",
      "AUC ROC: 0.9618\n",
      "\n"
     ]
    },
    {
     "data": {
      "image/png": "[encoded data removed]",
      "text/plain": [
       "<Figure size 432x288 with 2 Axes>"
      ]
     },
     "metadata": {
      "needs_background": "light"
     },
     "output_type": "display_data"
    }
   ],
   "source": [
    "# avaliando o desempenho do modelo treinado com dataset balanceado com random under sampler\n",
    "print(f'Relatório de classificação:\\n{classification_report(y_test, y_pred, digits=4)}')\n",
    "\n",
    "# avaliando AUC do modelo\n",
    "print(\"AUC ROC: {:.4f}\\n\".format(roc_auc_score(y_test, y_pred)))\n",
    "\n",
    "# matriz de confusão\n",
    "fig, ax = plt.subplots()\n",
    "\n",
    "sns.heatmap(confusion_matrix(y_test, y_pred, normalize='true'), cmap='Blues', annot=True, ax=ax)\n",
    "\n",
    "ax.set_ylabel(\"Valores reais\")\n",
    "ax.set_xlabel(\"Valores previstos\")\n",
    "\n",
    "# plt.savefig('results-rus.png')\n",
    "\n",
    "plt.tight_layout()"
   ]
  },
  {
   "cell_type": "markdown",
   "metadata": {},
   "source": [
    "## Resultados dos testes com logistic regression\n",
    "\n",
    "O teste para esse modelo obteve uma queda interessante na verificação de casos não fraudulentes, avaliando 2 casos menos que o modelo anterior (de 96% para 94%).\n",
    "\n",
    "Ainda assim, é interessante notar que houve um empate na questão de casos positivos (98%)"
   ]
  },
  {
   "cell_type": "code",
   "execution_count": 480,
   "metadata": {},
   "outputs": [
    {
     "ename": "ValueError",
     "evalue": "X has 26 features, but LogisticRegression is expecting 39 features as input.",
     "output_type": "error",
     "traceback": [
      "\u001b[1;31m---------------------------------------------------------------------------\u001b[0m",
      "\u001b[1;31mValueError\u001b[0m                                Traceback (most recent call last)",
      "Input \u001b[1;32mIn [480]\u001b[0m, in \u001b[0;36m<cell line: 86>\u001b[1;34m()\u001b[0m\n\u001b[0;32m     83\u001b[0m novo_exemplo_scaled \u001b[38;5;241m=\u001b[39m scaler\u001b[38;5;241m.\u001b[39mfit_transform(novo_exemplo)\n\u001b[0;32m     85\u001b[0m \u001b[38;5;66;03m# Realizando a previsão\u001b[39;00m\n\u001b[1;32m---> 86\u001b[0m y_pred_novo_exemplo_3 \u001b[38;5;241m=\u001b[39m \u001b[43mmodel_2\u001b[49m\u001b[38;5;241;43m.\u001b[39;49m\u001b[43mpredict\u001b[49m\u001b[43m(\u001b[49m\u001b[43mnovo_exemplo_scaled\u001b[49m\u001b[43m)\u001b[49m\n\u001b[0;32m     88\u001b[0m \u001b[38;5;66;03m# Avaliando o modelo\u001b[39;00m\n\u001b[0;32m     89\u001b[0m accuracy \u001b[38;5;241m=\u001b[39m accuracy_score(y, y_pred_novo_exemplo_3)\n",
      "File \u001b[1;32mc:\\Users\\EGZCR\\AppData\\Local\\Programs\\Python\\Python39\\lib\\site-packages\\sklearn\\linear_model\\_base.py:351\u001b[0m, in \u001b[0;36mLinearClassifierMixin.predict\u001b[1;34m(self, X)\u001b[0m\n\u001b[0;32m    337\u001b[0m \u001b[38;5;250m\u001b[39m\u001b[38;5;124;03m\"\"\"\u001b[39;00m\n\u001b[0;32m    338\u001b[0m \u001b[38;5;124;03mPredict class labels for samples in X.\u001b[39;00m\n\u001b[0;32m    339\u001b[0m \n\u001b[1;32m   (...)\u001b[0m\n\u001b[0;32m    348\u001b[0m \u001b[38;5;124;03m    Vector containing the class labels for each sample.\u001b[39;00m\n\u001b[0;32m    349\u001b[0m \u001b[38;5;124;03m\"\"\"\u001b[39;00m\n\u001b[0;32m    350\u001b[0m xp, _ \u001b[38;5;241m=\u001b[39m get_namespace(X)\n\u001b[1;32m--> 351\u001b[0m scores \u001b[38;5;241m=\u001b[39m \u001b[38;5;28;43mself\u001b[39;49m\u001b[38;5;241;43m.\u001b[39;49m\u001b[43mdecision_function\u001b[49m\u001b[43m(\u001b[49m\u001b[43mX\u001b[49m\u001b[43m)\u001b[49m\n\u001b[0;32m    352\u001b[0m \u001b[38;5;28;01mif\u001b[39;00m \u001b[38;5;28mlen\u001b[39m(scores\u001b[38;5;241m.\u001b[39mshape) \u001b[38;5;241m==\u001b[39m \u001b[38;5;241m1\u001b[39m:\n\u001b[0;32m    353\u001b[0m     indices \u001b[38;5;241m=\u001b[39m xp\u001b[38;5;241m.\u001b[39mastype(scores \u001b[38;5;241m>\u001b[39m \u001b[38;5;241m0\u001b[39m, \u001b[38;5;28mint\u001b[39m)\n",
      "File \u001b[1;32mc:\\Users\\EGZCR\\AppData\\Local\\Programs\\Python\\Python39\\lib\\site-packages\\sklearn\\linear_model\\_base.py:332\u001b[0m, in \u001b[0;36mLinearClassifierMixin.decision_function\u001b[1;34m(self, X)\u001b[0m\n\u001b[0;32m    329\u001b[0m check_is_fitted(\u001b[38;5;28mself\u001b[39m)\n\u001b[0;32m    330\u001b[0m xp, _ \u001b[38;5;241m=\u001b[39m get_namespace(X)\n\u001b[1;32m--> 332\u001b[0m X \u001b[38;5;241m=\u001b[39m \u001b[38;5;28;43mself\u001b[39;49m\u001b[38;5;241;43m.\u001b[39;49m\u001b[43m_validate_data\u001b[49m\u001b[43m(\u001b[49m\u001b[43mX\u001b[49m\u001b[43m,\u001b[49m\u001b[43m \u001b[49m\u001b[43maccept_sparse\u001b[49m\u001b[38;5;241;43m=\u001b[39;49m\u001b[38;5;124;43m\"\u001b[39;49m\u001b[38;5;124;43mcsr\u001b[39;49m\u001b[38;5;124;43m\"\u001b[39;49m\u001b[43m,\u001b[49m\u001b[43m \u001b[49m\u001b[43mreset\u001b[49m\u001b[38;5;241;43m=\u001b[39;49m\u001b[38;5;28;43;01mFalse\u001b[39;49;00m\u001b[43m)\u001b[49m\n\u001b[0;32m    333\u001b[0m scores \u001b[38;5;241m=\u001b[39m safe_sparse_dot(X, \u001b[38;5;28mself\u001b[39m\u001b[38;5;241m.\u001b[39mcoef_\u001b[38;5;241m.\u001b[39mT, dense_output\u001b[38;5;241m=\u001b[39m\u001b[38;5;28;01mTrue\u001b[39;00m) \u001b[38;5;241m+\u001b[39m \u001b[38;5;28mself\u001b[39m\u001b[38;5;241m.\u001b[39mintercept_\n\u001b[0;32m    334\u001b[0m \u001b[38;5;28;01mreturn\u001b[39;00m xp\u001b[38;5;241m.\u001b[39mreshape(scores, (\u001b[38;5;241m-\u001b[39m\u001b[38;5;241m1\u001b[39m,)) \u001b[38;5;28;01mif\u001b[39;00m scores\u001b[38;5;241m.\u001b[39mshape[\u001b[38;5;241m1\u001b[39m] \u001b[38;5;241m==\u001b[39m \u001b[38;5;241m1\u001b[39m \u001b[38;5;28;01melse\u001b[39;00m scores\n",
      "File \u001b[1;32mc:\\Users\\EGZCR\\AppData\\Local\\Programs\\Python\\Python39\\lib\\site-packages\\sklearn\\base.py:654\u001b[0m, in \u001b[0;36mBaseEstimator._validate_data\u001b[1;34m(self, X, y, reset, validate_separately, cast_to_ndarray, **check_params)\u001b[0m\n\u001b[0;32m    651\u001b[0m     out \u001b[38;5;241m=\u001b[39m X, y\n\u001b[0;32m    653\u001b[0m \u001b[38;5;28;01mif\u001b[39;00m \u001b[38;5;129;01mnot\u001b[39;00m no_val_X \u001b[38;5;129;01mand\u001b[39;00m check_params\u001b[38;5;241m.\u001b[39mget(\u001b[38;5;124m\"\u001b[39m\u001b[38;5;124mensure_2d\u001b[39m\u001b[38;5;124m\"\u001b[39m, \u001b[38;5;28;01mTrue\u001b[39;00m):\n\u001b[1;32m--> 654\u001b[0m     \u001b[38;5;28;43mself\u001b[39;49m\u001b[38;5;241;43m.\u001b[39;49m\u001b[43m_check_n_features\u001b[49m\u001b[43m(\u001b[49m\u001b[43mX\u001b[49m\u001b[43m,\u001b[49m\u001b[43m \u001b[49m\u001b[43mreset\u001b[49m\u001b[38;5;241;43m=\u001b[39;49m\u001b[43mreset\u001b[49m\u001b[43m)\u001b[49m\n\u001b[0;32m    656\u001b[0m \u001b[38;5;28;01mreturn\u001b[39;00m out\n",
      "File \u001b[1;32mc:\\Users\\EGZCR\\AppData\\Local\\Programs\\Python\\Python39\\lib\\site-packages\\sklearn\\base.py:443\u001b[0m, in \u001b[0;36mBaseEstimator._check_n_features\u001b[1;34m(self, X, reset)\u001b[0m\n\u001b[0;32m    440\u001b[0m     \u001b[38;5;28;01mreturn\u001b[39;00m\n\u001b[0;32m    442\u001b[0m \u001b[38;5;28;01mif\u001b[39;00m n_features \u001b[38;5;241m!=\u001b[39m \u001b[38;5;28mself\u001b[39m\u001b[38;5;241m.\u001b[39mn_features_in_:\n\u001b[1;32m--> 443\u001b[0m     \u001b[38;5;28;01mraise\u001b[39;00m \u001b[38;5;167;01mValueError\u001b[39;00m(\n\u001b[0;32m    444\u001b[0m         \u001b[38;5;124mf\u001b[39m\u001b[38;5;124m\"\u001b[39m\u001b[38;5;124mX has \u001b[39m\u001b[38;5;132;01m{\u001b[39;00mn_features\u001b[38;5;132;01m}\u001b[39;00m\u001b[38;5;124m features, but \u001b[39m\u001b[38;5;132;01m{\u001b[39;00m\u001b[38;5;28mself\u001b[39m\u001b[38;5;241m.\u001b[39m\u001b[38;5;18m__class__\u001b[39m\u001b[38;5;241m.\u001b[39m\u001b[38;5;18m__name__\u001b[39m\u001b[38;5;132;01m}\u001b[39;00m\u001b[38;5;124m \u001b[39m\u001b[38;5;124m\"\u001b[39m\n\u001b[0;32m    445\u001b[0m         \u001b[38;5;124mf\u001b[39m\u001b[38;5;124m\"\u001b[39m\u001b[38;5;124mis expecting \u001b[39m\u001b[38;5;132;01m{\u001b[39;00m\u001b[38;5;28mself\u001b[39m\u001b[38;5;241m.\u001b[39mn_features_in_\u001b[38;5;132;01m}\u001b[39;00m\u001b[38;5;124m features as input.\u001b[39m\u001b[38;5;124m\"\u001b[39m\n\u001b[0;32m    446\u001b[0m     )\n",
      "\u001b[1;31mValueError\u001b[0m: X has 26 features, but LogisticRegression is expecting 39 features as input."
     ]
    }
   ],
   "source": [
    "# # Função para gerar valores de amount com maior concentração entre 0 e 100\n",
    "# def generate_amount():\n",
    "#     if np.random.rand() < 0.8:  # 80% de chance de estar entre 0 e 100\n",
    "#         return np.round(np.random.uniform(0.1, 100), 2)\n",
    "#     else:  # 20% de chance de estar entre 100 e 8400\n",
    "#         return np.round(np.random.uniform(100, 8400), 2)\n",
    "    \n",
    "# label_encoder = preprocessing.LabelEncoder()\n",
    "# one_hot_encoder_gender = preprocessing.OneHotEncoder(sparse_output=False)\n",
    "# one_hot_encoder_category = preprocessing.OneHotEncoder(sparse_output=False)\n",
    "\n",
    "# novo_exemplo = pd.DataFrame({\n",
    "#     'step': np.random.randint(1, 200, 500),\n",
    "#     'customer': [f'C{np.random.randint(100000000, 999999999)}' for _ in range(500)],\n",
    "#     'age': np.random.choice([0, 1, 2, 3, 4, 5, 6, 7], 500),\n",
    "#     'gender': np.random.choice(['M', 'F', 'E', 'U'], 500),\n",
    "#     'merchant': [f'M{np.random.randint(100000000, 999999999)}' for _ in range(500)],\n",
    "#     'category': np.random.choice([\n",
    "#         \"es_transportation\", \"es_health\", \"es_otherservices\", \"es_food\",\n",
    "#         \"es_hotelservices\", \"es_barsandrestaurants\", \"es_tech\",\n",
    "#         \"es_sportsandtoys\", \"es_wellnessandbeauty\", \"es_hyper\", \"es_fashion\",\n",
    "#         \"es_home\", \"es_contents\", \"es_travel\", \"es_leisure\"\n",
    "#     ], 500),\n",
    "#     'amount': [generate_amount() for _ in range(500)],\n",
    "#     'fraud': np.random.choice([0, 1], 500, p=[0.95, 0.05]),\n",
    "#     'zipcodeOri': '28007',\n",
    "#     'zipMerchant': '28007',\n",
    "# })\n",
    "\n",
    "# label_columns = ['customer', 'merchant', 'amount_category', 'zipcodeOri', 'zipMerchant']\n",
    "\n",
    "# columns_order = ['step', 'customer', 'age', 'gender', 'zipcodeOri', 'merchant',\n",
    "#        'zipMerchant', 'category', 'amount', 'fraud']\n",
    "\n",
    "# novo_exemplo = novo_exemplo[columns_order]\n",
    "# # Definindo os intervalos (bins) e os rótulos (labels)\n",
    "# bins = [0, 20, 40, 60, 80, 100, 200, 400, 600, 800, 1000, 2000, 4000, 6000, 8000, 8400]\n",
    "# labels = ['0-20', '20-40', '40-60', '60-80', '80-100', '100-200', '200-400', '400-600', '600-800', '800-1000', '1000-2000', '2000-4000', '4000-6000', '6000-8000', '8000-8400']\n",
    "\n",
    "# # Criando a coluna categorizada\n",
    "# novo_exemplo['amount_category'] = pd.cut(novo_exemplo['amount'], bins=bins, labels=labels, include_lowest=True)\n",
    "\n",
    "# # Função para lidar com novos valores no LabelEncoder\n",
    "# def handle_new_labels(encoder, value):\n",
    "#     if value in encoder.classes_:\n",
    "#         return encoder.transform([value])[0]\n",
    "#     else:\n",
    "#         # Adiciona a nova classe temporariamente e transforma o valor\n",
    "#         new_classes = np.append(encoder.classes_, value)\n",
    "#         encoder.classes_ = new_classes\n",
    "#         return encoder.transform([value])[0]\n",
    "\n",
    "# # Aplique o mesmo pré-processamento no novo exemplo\n",
    "# novo_exemplo['age'].replace(\"U\", \"7\", inplace=True)\n",
    "# novo_exemplo['age'] = novo_exemplo['age'].astype(int)\n",
    "\n",
    "# # Ajuste inicial para garantir que o LabelEncoder tenha classes\n",
    "# for col in label_columns:\n",
    "#     label_encoder.fit(novo_exemplo[col])\n",
    "\n",
    "# # Aplicar LabelEncoder nas colunas categóricas com verificação de novos valores\n",
    "# for i in label_columns:\n",
    "#     novo_exemplo[i] = novo_exemplo[i].apply(lambda x: handle_new_labels(label_encoder, x))\n",
    "\n",
    "# # Aplicar OneHotEncoder nas colunas 'gender' e 'category'\n",
    "# novo_exemplo_gender = one_hot_encoder_gender.fit_transform(novo_exemplo[['gender']])\n",
    "# novo_exemplo_category = one_hot_encoder_category.fit_transform(novo_exemplo[['category']])\n",
    "\n",
    "# # Convertendo os resultados para DataFrame\n",
    "# df_novo_exemplo_gender = pd.DataFrame(novo_exemplo_gender, columns=one_hot_encoder_gender.get_feature_names_out(['gender']))\n",
    "# df_novo_exemplo_category = pd.DataFrame(novo_exemplo_category, columns=one_hot_encoder_category.get_feature_names_out(['category']))\n",
    "\n",
    "# # Concatenando as novas colunas com o novo exemplo\n",
    "# novo_exemplo = pd.concat([novo_exemplo, df_novo_exemplo_gender, df_novo_exemplo_category], axis=1)\n",
    "\n",
    "# y = novo_exemplo['fraud']\n",
    "\n",
    "# # Removendo colunas desnecessárias\n",
    "# novo_exemplo.drop(['gender', 'category', 'fraud', 'step'], axis=1, inplace=True)\n",
    "\n",
    "# # Aplicando o mesmo escalonamento de valores\n",
    "# scaler = MinMaxScaler()\n",
    "# novo_exemplo_scaled = scaler.fit_transform(novo_exemplo)"
   ]
  },
  {
   "cell_type": "code",
   "execution_count": 478,
   "metadata": {},
   "outputs": [
    {
     "ename": "ValueError",
     "evalue": "X has 26 features, but RandomForestClassifier is expecting 39 features as input.",
     "output_type": "error",
     "traceback": [
      "\u001b[1;31m---------------------------------------------------------------------------\u001b[0m",
      "\u001b[1;31mValueError\u001b[0m                                Traceback (most recent call last)",
      "Input \u001b[1;32mIn [478]\u001b[0m, in \u001b[0;36m<cell line: 2>\u001b[1;34m()\u001b[0m\n\u001b[0;32m      1\u001b[0m \u001b[38;5;66;03m# Realizando a previsão\u001b[39;00m\n\u001b[1;32m----> 2\u001b[0m y_pred_novo_exemplo \u001b[38;5;241m=\u001b[39m \u001b[43mmodel\u001b[49m\u001b[38;5;241;43m.\u001b[39;49m\u001b[43mpredict\u001b[49m\u001b[43m(\u001b[49m\u001b[43mnovo_exemplo_scaled\u001b[49m\u001b[43m)\u001b[49m \u001b[38;5;66;03m# Random Forest\u001b[39;00m\n\u001b[0;32m      4\u001b[0m \u001b[38;5;66;03m# print(f'Previsão para o novo exemplo: {y_pred_novo_exemplo}')\u001b[39;00m\n\u001b[0;32m      6\u001b[0m accuracy \u001b[38;5;241m=\u001b[39m accuracy_score(y, y_pred_novo_exemplo)\n",
      "File \u001b[1;32mc:\\Users\\EGZCR\\AppData\\Local\\Programs\\Python\\Python39\\lib\\site-packages\\sklearn\\ensemble\\_forest.py:905\u001b[0m, in \u001b[0;36mForestClassifier.predict\u001b[1;34m(self, X)\u001b[0m\n\u001b[0;32m    884\u001b[0m \u001b[38;5;28;01mdef\u001b[39;00m \u001b[38;5;21mpredict\u001b[39m(\u001b[38;5;28mself\u001b[39m, X):\n\u001b[0;32m    885\u001b[0m \u001b[38;5;250m    \u001b[39m\u001b[38;5;124;03m\"\"\"\u001b[39;00m\n\u001b[0;32m    886\u001b[0m \u001b[38;5;124;03m    Predict class for X.\u001b[39;00m\n\u001b[0;32m    887\u001b[0m \n\u001b[1;32m   (...)\u001b[0m\n\u001b[0;32m    903\u001b[0m \u001b[38;5;124;03m        The predicted classes.\u001b[39;00m\n\u001b[0;32m    904\u001b[0m \u001b[38;5;124;03m    \"\"\"\u001b[39;00m\n\u001b[1;32m--> 905\u001b[0m     proba \u001b[38;5;241m=\u001b[39m \u001b[38;5;28;43mself\u001b[39;49m\u001b[38;5;241;43m.\u001b[39;49m\u001b[43mpredict_proba\u001b[49m\u001b[43m(\u001b[49m\u001b[43mX\u001b[49m\u001b[43m)\u001b[49m\n\u001b[0;32m    907\u001b[0m     \u001b[38;5;28;01mif\u001b[39;00m \u001b[38;5;28mself\u001b[39m\u001b[38;5;241m.\u001b[39mn_outputs_ \u001b[38;5;241m==\u001b[39m \u001b[38;5;241m1\u001b[39m:\n\u001b[0;32m    908\u001b[0m         \u001b[38;5;28;01mreturn\u001b[39;00m \u001b[38;5;28mself\u001b[39m\u001b[38;5;241m.\u001b[39mclasses_\u001b[38;5;241m.\u001b[39mtake(np\u001b[38;5;241m.\u001b[39margmax(proba, axis\u001b[38;5;241m=\u001b[39m\u001b[38;5;241m1\u001b[39m), axis\u001b[38;5;241m=\u001b[39m\u001b[38;5;241m0\u001b[39m)\n",
      "File \u001b[1;32mc:\\Users\\EGZCR\\AppData\\Local\\Programs\\Python\\Python39\\lib\\site-packages\\sklearn\\ensemble\\_forest.py:947\u001b[0m, in \u001b[0;36mForestClassifier.predict_proba\u001b[1;34m(self, X)\u001b[0m\n\u001b[0;32m    945\u001b[0m check_is_fitted(\u001b[38;5;28mself\u001b[39m)\n\u001b[0;32m    946\u001b[0m \u001b[38;5;66;03m# Check data\u001b[39;00m\n\u001b[1;32m--> 947\u001b[0m X \u001b[38;5;241m=\u001b[39m \u001b[38;5;28;43mself\u001b[39;49m\u001b[38;5;241;43m.\u001b[39;49m\u001b[43m_validate_X_predict\u001b[49m\u001b[43m(\u001b[49m\u001b[43mX\u001b[49m\u001b[43m)\u001b[49m\n\u001b[0;32m    949\u001b[0m \u001b[38;5;66;03m# Assign chunk of trees to jobs\u001b[39;00m\n\u001b[0;32m    950\u001b[0m n_jobs, _, _ \u001b[38;5;241m=\u001b[39m _partition_estimators(\u001b[38;5;28mself\u001b[39m\u001b[38;5;241m.\u001b[39mn_estimators, \u001b[38;5;28mself\u001b[39m\u001b[38;5;241m.\u001b[39mn_jobs)\n",
      "File \u001b[1;32mc:\\Users\\EGZCR\\AppData\\Local\\Programs\\Python\\Python39\\lib\\site-packages\\sklearn\\ensemble\\_forest.py:641\u001b[0m, in \u001b[0;36mBaseForest._validate_X_predict\u001b[1;34m(self, X)\u001b[0m\n\u001b[0;32m    638\u001b[0m \u001b[38;5;28;01melse\u001b[39;00m:\n\u001b[0;32m    639\u001b[0m     force_all_finite \u001b[38;5;241m=\u001b[39m \u001b[38;5;28;01mTrue\u001b[39;00m\n\u001b[1;32m--> 641\u001b[0m X \u001b[38;5;241m=\u001b[39m \u001b[38;5;28;43mself\u001b[39;49m\u001b[38;5;241;43m.\u001b[39;49m\u001b[43m_validate_data\u001b[49m\u001b[43m(\u001b[49m\n\u001b[0;32m    642\u001b[0m \u001b[43m    \u001b[49m\u001b[43mX\u001b[49m\u001b[43m,\u001b[49m\n\u001b[0;32m    643\u001b[0m \u001b[43m    \u001b[49m\u001b[43mdtype\u001b[49m\u001b[38;5;241;43m=\u001b[39;49m\u001b[43mDTYPE\u001b[49m\u001b[43m,\u001b[49m\n\u001b[0;32m    644\u001b[0m \u001b[43m    \u001b[49m\u001b[43maccept_sparse\u001b[49m\u001b[38;5;241;43m=\u001b[39;49m\u001b[38;5;124;43m\"\u001b[39;49m\u001b[38;5;124;43mcsr\u001b[39;49m\u001b[38;5;124;43m\"\u001b[39;49m\u001b[43m,\u001b[49m\n\u001b[0;32m    645\u001b[0m \u001b[43m    \u001b[49m\u001b[43mreset\u001b[49m\u001b[38;5;241;43m=\u001b[39;49m\u001b[38;5;28;43;01mFalse\u001b[39;49;00m\u001b[43m,\u001b[49m\n\u001b[0;32m    646\u001b[0m \u001b[43m    \u001b[49m\u001b[43mforce_all_finite\u001b[49m\u001b[38;5;241;43m=\u001b[39;49m\u001b[43mforce_all_finite\u001b[49m\u001b[43m,\u001b[49m\n\u001b[0;32m    647\u001b[0m \u001b[43m\u001b[49m\u001b[43m)\u001b[49m\n\u001b[0;32m    648\u001b[0m \u001b[38;5;28;01mif\u001b[39;00m issparse(X) \u001b[38;5;129;01mand\u001b[39;00m (X\u001b[38;5;241m.\u001b[39mindices\u001b[38;5;241m.\u001b[39mdtype \u001b[38;5;241m!=\u001b[39m np\u001b[38;5;241m.\u001b[39mintc \u001b[38;5;129;01mor\u001b[39;00m X\u001b[38;5;241m.\u001b[39mindptr\u001b[38;5;241m.\u001b[39mdtype \u001b[38;5;241m!=\u001b[39m np\u001b[38;5;241m.\u001b[39mintc):\n\u001b[0;32m    649\u001b[0m     \u001b[38;5;28;01mraise\u001b[39;00m \u001b[38;5;167;01mValueError\u001b[39;00m(\u001b[38;5;124m\"\u001b[39m\u001b[38;5;124mNo support for np.int64 index based sparse matrices\u001b[39m\u001b[38;5;124m\"\u001b[39m)\n",
      "File \u001b[1;32mc:\\Users\\EGZCR\\AppData\\Local\\Programs\\Python\\Python39\\lib\\site-packages\\sklearn\\base.py:654\u001b[0m, in \u001b[0;36mBaseEstimator._validate_data\u001b[1;34m(self, X, y, reset, validate_separately, cast_to_ndarray, **check_params)\u001b[0m\n\u001b[0;32m    651\u001b[0m     out \u001b[38;5;241m=\u001b[39m X, y\n\u001b[0;32m    653\u001b[0m \u001b[38;5;28;01mif\u001b[39;00m \u001b[38;5;129;01mnot\u001b[39;00m no_val_X \u001b[38;5;129;01mand\u001b[39;00m check_params\u001b[38;5;241m.\u001b[39mget(\u001b[38;5;124m\"\u001b[39m\u001b[38;5;124mensure_2d\u001b[39m\u001b[38;5;124m\"\u001b[39m, \u001b[38;5;28;01mTrue\u001b[39;00m):\n\u001b[1;32m--> 654\u001b[0m     \u001b[38;5;28;43mself\u001b[39;49m\u001b[38;5;241;43m.\u001b[39;49m\u001b[43m_check_n_features\u001b[49m\u001b[43m(\u001b[49m\u001b[43mX\u001b[49m\u001b[43m,\u001b[49m\u001b[43m \u001b[49m\u001b[43mreset\u001b[49m\u001b[38;5;241;43m=\u001b[39;49m\u001b[43mreset\u001b[49m\u001b[43m)\u001b[49m\n\u001b[0;32m    656\u001b[0m \u001b[38;5;28;01mreturn\u001b[39;00m out\n",
      "File \u001b[1;32mc:\\Users\\EGZCR\\AppData\\Local\\Programs\\Python\\Python39\\lib\\site-packages\\sklearn\\base.py:443\u001b[0m, in \u001b[0;36mBaseEstimator._check_n_features\u001b[1;34m(self, X, reset)\u001b[0m\n\u001b[0;32m    440\u001b[0m     \u001b[38;5;28;01mreturn\u001b[39;00m\n\u001b[0;32m    442\u001b[0m \u001b[38;5;28;01mif\u001b[39;00m n_features \u001b[38;5;241m!=\u001b[39m \u001b[38;5;28mself\u001b[39m\u001b[38;5;241m.\u001b[39mn_features_in_:\n\u001b[1;32m--> 443\u001b[0m     \u001b[38;5;28;01mraise\u001b[39;00m \u001b[38;5;167;01mValueError\u001b[39;00m(\n\u001b[0;32m    444\u001b[0m         \u001b[38;5;124mf\u001b[39m\u001b[38;5;124m\"\u001b[39m\u001b[38;5;124mX has \u001b[39m\u001b[38;5;132;01m{\u001b[39;00mn_features\u001b[38;5;132;01m}\u001b[39;00m\u001b[38;5;124m features, but \u001b[39m\u001b[38;5;132;01m{\u001b[39;00m\u001b[38;5;28mself\u001b[39m\u001b[38;5;241m.\u001b[39m\u001b[38;5;18m__class__\u001b[39m\u001b[38;5;241m.\u001b[39m\u001b[38;5;18m__name__\u001b[39m\u001b[38;5;132;01m}\u001b[39;00m\u001b[38;5;124m \u001b[39m\u001b[38;5;124m\"\u001b[39m\n\u001b[0;32m    445\u001b[0m         \u001b[38;5;124mf\u001b[39m\u001b[38;5;124m\"\u001b[39m\u001b[38;5;124mis expecting \u001b[39m\u001b[38;5;132;01m{\u001b[39;00m\u001b[38;5;28mself\u001b[39m\u001b[38;5;241m.\u001b[39mn_features_in_\u001b[38;5;132;01m}\u001b[39;00m\u001b[38;5;124m features as input.\u001b[39m\u001b[38;5;124m\"\u001b[39m\n\u001b[0;32m    446\u001b[0m     )\n",
      "\u001b[1;31mValueError\u001b[0m: X has 26 features, but RandomForestClassifier is expecting 39 features as input."
     ]
    }
   ],
   "source": [
    "# # Realizando a previsão\n",
    "# y_pred_novo_exemplo = model.predict(novo_exemplo_scaled) # Random Forest\n",
    "\n",
    "# # print(f'Previsão para o novo exemplo: {y_pred_novo_exemplo}')\n",
    "\n",
    "# accuracy = accuracy_score(y, y_pred_novo_exemplo)\n",
    "# precision = precision_score(y, y_pred_novo_exemplo)\n",
    "# recall = recall_score(y, y_pred_novo_exemplo)\n",
    "# f1 = f1_score(y, y_pred_novo_exemplo)\n",
    "# roc_auc = roc_auc_score(y, y_pred_novo_exemplo)\n",
    "\n",
    "# print(f\"Acurácia: {accuracy}\")\n",
    "# print(f\"Precisão: {precision}\")\n",
    "# print(f\"Recall: {recall}\")\n",
    "# print(f\"F1-Score: {f1}\")\n",
    "# print(f\"AUC-ROC: {roc_auc}\")\n",
    "\n"
   ]
  },
  {
   "cell_type": "code",
   "execution_count": 472,
   "metadata": {},
   "outputs": [
    {
     "ename": "ValueError",
     "evalue": "X has 15 features, but LogisticRegression is expecting 39 features as input.",
     "output_type": "error",
     "traceback": [
      "\u001b[1;31m---------------------------------------------------------------------------\u001b[0m",
      "\u001b[1;31mValueError\u001b[0m                                Traceback (most recent call last)",
      "Input \u001b[1;32mIn [472]\u001b[0m, in \u001b[0;36m<cell line: 2>\u001b[1;34m()\u001b[0m\n\u001b[0;32m      1\u001b[0m \u001b[38;5;66;03m# Realizando a previsão\u001b[39;00m\n\u001b[1;32m----> 2\u001b[0m y_pred_novo_exemplo_3 \u001b[38;5;241m=\u001b[39m \u001b[43mmodel_2\u001b[49m\u001b[38;5;241;43m.\u001b[39;49m\u001b[43mpredict\u001b[49m\u001b[43m(\u001b[49m\u001b[43mnovo_exemplo_scaled\u001b[49m\u001b[43m)\u001b[49m \u001b[38;5;66;03m# Logistic Regression\u001b[39;00m\n\u001b[0;32m      3\u001b[0m \u001b[38;5;28mprint\u001b[39m(\u001b[38;5;124mf\u001b[39m\u001b[38;5;124m'\u001b[39m\u001b[38;5;124mPrevisão para o novo exemplo: \u001b[39m\u001b[38;5;132;01m{\u001b[39;00my_pred_novo_exemplo_3\u001b[38;5;132;01m}\u001b[39;00m\u001b[38;5;124m'\u001b[39m)\n\u001b[0;32m      4\u001b[0m \u001b[38;5;28mprint\u001b[39m(\u001b[38;5;124mf\u001b[39m\u001b[38;5;124m'\u001b[39m\u001b[38;5;124mPrevisão para o valor real  : \u001b[39m\u001b[38;5;132;01m{\u001b[39;00m\u001b[38;5;28mlist\u001b[39m(y)\u001b[38;5;132;01m}\u001b[39;00m\u001b[38;5;124m'\u001b[39m)\n",
      "File \u001b[1;32mc:\\Users\\EGZCR\\AppData\\Local\\Programs\\Python\\Python39\\lib\\site-packages\\sklearn\\linear_model\\_base.py:351\u001b[0m, in \u001b[0;36mLinearClassifierMixin.predict\u001b[1;34m(self, X)\u001b[0m\n\u001b[0;32m    337\u001b[0m \u001b[38;5;250m\u001b[39m\u001b[38;5;124;03m\"\"\"\u001b[39;00m\n\u001b[0;32m    338\u001b[0m \u001b[38;5;124;03mPredict class labels for samples in X.\u001b[39;00m\n\u001b[0;32m    339\u001b[0m \n\u001b[1;32m   (...)\u001b[0m\n\u001b[0;32m    348\u001b[0m \u001b[38;5;124;03m    Vector containing the class labels for each sample.\u001b[39;00m\n\u001b[0;32m    349\u001b[0m \u001b[38;5;124;03m\"\"\"\u001b[39;00m\n\u001b[0;32m    350\u001b[0m xp, _ \u001b[38;5;241m=\u001b[39m get_namespace(X)\n\u001b[1;32m--> 351\u001b[0m scores \u001b[38;5;241m=\u001b[39m \u001b[38;5;28;43mself\u001b[39;49m\u001b[38;5;241;43m.\u001b[39;49m\u001b[43mdecision_function\u001b[49m\u001b[43m(\u001b[49m\u001b[43mX\u001b[49m\u001b[43m)\u001b[49m\n\u001b[0;32m    352\u001b[0m \u001b[38;5;28;01mif\u001b[39;00m \u001b[38;5;28mlen\u001b[39m(scores\u001b[38;5;241m.\u001b[39mshape) \u001b[38;5;241m==\u001b[39m \u001b[38;5;241m1\u001b[39m:\n\u001b[0;32m    353\u001b[0m     indices \u001b[38;5;241m=\u001b[39m xp\u001b[38;5;241m.\u001b[39mastype(scores \u001b[38;5;241m>\u001b[39m \u001b[38;5;241m0\u001b[39m, \u001b[38;5;28mint\u001b[39m)\n",
      "File \u001b[1;32mc:\\Users\\EGZCR\\AppData\\Local\\Programs\\Python\\Python39\\lib\\site-packages\\sklearn\\linear_model\\_base.py:332\u001b[0m, in \u001b[0;36mLinearClassifierMixin.decision_function\u001b[1;34m(self, X)\u001b[0m\n\u001b[0;32m    329\u001b[0m check_is_fitted(\u001b[38;5;28mself\u001b[39m)\n\u001b[0;32m    330\u001b[0m xp, _ \u001b[38;5;241m=\u001b[39m get_namespace(X)\n\u001b[1;32m--> 332\u001b[0m X \u001b[38;5;241m=\u001b[39m \u001b[38;5;28;43mself\u001b[39;49m\u001b[38;5;241;43m.\u001b[39;49m\u001b[43m_validate_data\u001b[49m\u001b[43m(\u001b[49m\u001b[43mX\u001b[49m\u001b[43m,\u001b[49m\u001b[43m \u001b[49m\u001b[43maccept_sparse\u001b[49m\u001b[38;5;241;43m=\u001b[39;49m\u001b[38;5;124;43m\"\u001b[39;49m\u001b[38;5;124;43mcsr\u001b[39;49m\u001b[38;5;124;43m\"\u001b[39;49m\u001b[43m,\u001b[49m\u001b[43m \u001b[49m\u001b[43mreset\u001b[49m\u001b[38;5;241;43m=\u001b[39;49m\u001b[38;5;28;43;01mFalse\u001b[39;49;00m\u001b[43m)\u001b[49m\n\u001b[0;32m    333\u001b[0m scores \u001b[38;5;241m=\u001b[39m safe_sparse_dot(X, \u001b[38;5;28mself\u001b[39m\u001b[38;5;241m.\u001b[39mcoef_\u001b[38;5;241m.\u001b[39mT, dense_output\u001b[38;5;241m=\u001b[39m\u001b[38;5;28;01mTrue\u001b[39;00m) \u001b[38;5;241m+\u001b[39m \u001b[38;5;28mself\u001b[39m\u001b[38;5;241m.\u001b[39mintercept_\n\u001b[0;32m    334\u001b[0m \u001b[38;5;28;01mreturn\u001b[39;00m xp\u001b[38;5;241m.\u001b[39mreshape(scores, (\u001b[38;5;241m-\u001b[39m\u001b[38;5;241m1\u001b[39m,)) \u001b[38;5;28;01mif\u001b[39;00m scores\u001b[38;5;241m.\u001b[39mshape[\u001b[38;5;241m1\u001b[39m] \u001b[38;5;241m==\u001b[39m \u001b[38;5;241m1\u001b[39m \u001b[38;5;28;01melse\u001b[39;00m scores\n",
      "File \u001b[1;32mc:\\Users\\EGZCR\\AppData\\Local\\Programs\\Python\\Python39\\lib\\site-packages\\sklearn\\base.py:654\u001b[0m, in \u001b[0;36mBaseEstimator._validate_data\u001b[1;34m(self, X, y, reset, validate_separately, cast_to_ndarray, **check_params)\u001b[0m\n\u001b[0;32m    651\u001b[0m     out \u001b[38;5;241m=\u001b[39m X, y\n\u001b[0;32m    653\u001b[0m \u001b[38;5;28;01mif\u001b[39;00m \u001b[38;5;129;01mnot\u001b[39;00m no_val_X \u001b[38;5;129;01mand\u001b[39;00m check_params\u001b[38;5;241m.\u001b[39mget(\u001b[38;5;124m\"\u001b[39m\u001b[38;5;124mensure_2d\u001b[39m\u001b[38;5;124m\"\u001b[39m, \u001b[38;5;28;01mTrue\u001b[39;00m):\n\u001b[1;32m--> 654\u001b[0m     \u001b[38;5;28;43mself\u001b[39;49m\u001b[38;5;241;43m.\u001b[39;49m\u001b[43m_check_n_features\u001b[49m\u001b[43m(\u001b[49m\u001b[43mX\u001b[49m\u001b[43m,\u001b[49m\u001b[43m \u001b[49m\u001b[43mreset\u001b[49m\u001b[38;5;241;43m=\u001b[39;49m\u001b[43mreset\u001b[49m\u001b[43m)\u001b[49m\n\u001b[0;32m    656\u001b[0m \u001b[38;5;28;01mreturn\u001b[39;00m out\n",
      "File \u001b[1;32mc:\\Users\\EGZCR\\AppData\\Local\\Programs\\Python\\Python39\\lib\\site-packages\\sklearn\\base.py:443\u001b[0m, in \u001b[0;36mBaseEstimator._check_n_features\u001b[1;34m(self, X, reset)\u001b[0m\n\u001b[0;32m    440\u001b[0m     \u001b[38;5;28;01mreturn\u001b[39;00m\n\u001b[0;32m    442\u001b[0m \u001b[38;5;28;01mif\u001b[39;00m n_features \u001b[38;5;241m!=\u001b[39m \u001b[38;5;28mself\u001b[39m\u001b[38;5;241m.\u001b[39mn_features_in_:\n\u001b[1;32m--> 443\u001b[0m     \u001b[38;5;28;01mraise\u001b[39;00m \u001b[38;5;167;01mValueError\u001b[39;00m(\n\u001b[0;32m    444\u001b[0m         \u001b[38;5;124mf\u001b[39m\u001b[38;5;124m\"\u001b[39m\u001b[38;5;124mX has \u001b[39m\u001b[38;5;132;01m{\u001b[39;00mn_features\u001b[38;5;132;01m}\u001b[39;00m\u001b[38;5;124m features, but \u001b[39m\u001b[38;5;132;01m{\u001b[39;00m\u001b[38;5;28mself\u001b[39m\u001b[38;5;241m.\u001b[39m\u001b[38;5;18m__class__\u001b[39m\u001b[38;5;241m.\u001b[39m\u001b[38;5;18m__name__\u001b[39m\u001b[38;5;132;01m}\u001b[39;00m\u001b[38;5;124m \u001b[39m\u001b[38;5;124m\"\u001b[39m\n\u001b[0;32m    445\u001b[0m         \u001b[38;5;124mf\u001b[39m\u001b[38;5;124m\"\u001b[39m\u001b[38;5;124mis expecting \u001b[39m\u001b[38;5;132;01m{\u001b[39;00m\u001b[38;5;28mself\u001b[39m\u001b[38;5;241m.\u001b[39mn_features_in_\u001b[38;5;132;01m}\u001b[39;00m\u001b[38;5;124m features as input.\u001b[39m\u001b[38;5;124m\"\u001b[39m\n\u001b[0;32m    446\u001b[0m     )\n",
      "\u001b[1;31mValueError\u001b[0m: X has 15 features, but LogisticRegression is expecting 39 features as input."
     ]
    }
   ],
   "source": [
    "# # Realizando a previsão\n",
    "# y_pred_novo_exemplo_3 = model_2.predict(novo_exemplo_scaled) # Logistic Regression\n",
    "# print(f'Previsão para o novo exemplo: {y_pred_novo_exemplo_3}')\n",
    "# print(f'Previsão para o valor real  : {list(y)}')\n",
    "\n",
    "# accuracy = accuracy_score(y, y_pred_novo_exemplo_3)\n",
    "# precision = precision_score(y, y_pred_novo_exemplo_3)\n",
    "# recall = recall_score(y, y_pred_novo_exemplo_3)\n",
    "# f1 = f1_score(y, y_pred_novo_exemplo_3)\n",
    "# roc_auc = roc_auc_score(y, y_pred_novo_exemplo_3)\n",
    "\n",
    "# print(f\"Acurácia: {accuracy}\")\n",
    "# print(f\"Precisão: {precision}\")\n",
    "# print(f\"Recall: {recall}\")\n",
    "# print(f\"F1-Score: {f1}\")\n",
    "# print(f\"AUC-ROC: {roc_auc}\")"
   ]
  }
 ],
 "metadata": {
  "kernelspec": {
   "display_name": "Python 3",
   "language": "python",
   "name": "python3"
  },
  "language_info": {
   "codemirror_mode": {
    "name": "ipython",
    "version": 3
   },
   "file_extension": ".py",
   "mimetype": "text/x-python",
   "name": "python",
   "nbconvert_exporter": "python",
   "pygments_lexer": "ipython3",
   "version": "3.9.7"
  }
 },
 "nbformat": 4,
 "nbformat_minor": 2
}
